{
  "nbformat": 4,
  "nbformat_minor": 0,
  "metadata": {
    "colab": {
      "name": "imdb_sentiment_analysis.ipynb",
      "provenance": [],
      "collapsed_sections": [],
      "authorship_tag": "ABX9TyOICEdcPBuY4SBE/yp7Z4T5",
      "include_colab_link": true
    },
    "kernelspec": {
      "name": "python3",
      "display_name": "Python 3"
    },
    "accelerator": "GPU"
  },
  "cells": [
    {
      "cell_type": "markdown",
      "metadata": {
        "id": "view-in-github",
        "colab_type": "text"
      },
      "source": [
        "<a href=\"https://colab.research.google.com/github/ArashDehghanyan/Topic-modelling/blob/master/imdb_sentiment_analysis.ipynb\" target=\"_parent\"><img src=\"https://colab.research.google.com/assets/colab-badge.svg\" alt=\"Open In Colab\"/></a>"
      ]
    },
    {
      "cell_type": "code",
      "metadata": {
        "id": "9yXI9SCx3QFv",
        "colab_type": "code",
        "colab": {
          "base_uri": "https://localhost:8080/",
          "height": 34
        },
        "outputId": "728efcb9-ed50-4ce8-bd33-957caf02941b"
      },
      "source": [
        "#Mount your drive\n",
        "from google.colab import drive\n",
        "\n",
        "drive.mount('/MyDrive/')\n"
      ],
      "execution_count": null,
      "outputs": [
        {
          "output_type": "stream",
          "text": [
            "Drive already mounted at /MyDrive/; to attempt to forcibly remount, call drive.mount(\"/MyDrive/\", force_remount=True).\n"
          ],
          "name": "stdout"
        }
      ]
    },
    {
      "cell_type": "markdown",
      "metadata": {
        "id": "GI21ObdRsrBV",
        "colab_type": "text"
      },
      "source": [
        "##Import all libraries"
      ]
    },
    {
      "cell_type": "code",
      "metadata": {
        "id": "h_uCBo45ru5h",
        "colab_type": "code",
        "colab": {}
      },
      "source": [
        "import numpy as np\n",
        "import pandas as pd\n",
        "from nltk.stem import WordNetLemmatizer, PorterStemmer\n",
        "from gensim.parsing.preprocessing import STOPWORDS\n",
        "import gensim\n",
        "from gensim.utils import simple_preprocess\n",
        "import tensorflow as tf\n",
        "from tensorflow.keras.preprocessing.text import Tokenizer\n",
        "from tensorflow.keras.preprocessing.sequence import pad_sequences\n",
        "from tensorflow.keras.models import Sequential, load_model\n",
        "from tensorflow.keras.layers import Dense, Embedding, LSTM, Bidirectional,Flatten,Dropout\n",
        "from sklearn.model_selection import train_test_split\n",
        "from tensorflow.keras.utils import to_categorical\n",
        "import re\n",
        "import tensorflow_hub as hub\n",
        "import gc\n",
        "stemmer = PorterStemmer()\n"
      ],
      "execution_count": null,
      "outputs": []
    },
    {
      "cell_type": "code",
      "metadata": {
        "id": "uyAyGTvWoIDz",
        "colab_type": "code",
        "colab": {
          "base_uri": "https://localhost:8080/",
          "height": 70
        },
        "outputId": "0968f0c9-79e4-4319-a072-c7f31465cbec"
      },
      "source": [
        "import nltk\n",
        "nltk.download('wordnet')"
      ],
      "execution_count": null,
      "outputs": [
        {
          "output_type": "stream",
          "text": [
            "[nltk_data] Downloading package wordnet to /root/nltk_data...\n",
            "[nltk_data]   Package wordnet is already up-to-date!\n"
          ],
          "name": "stdout"
        },
        {
          "output_type": "execute_result",
          "data": {
            "text/plain": [
              "True"
            ]
          },
          "metadata": {
            "tags": []
          },
          "execution_count": 3
        }
      ]
    },
    {
      "cell_type": "code",
      "metadata": {
        "id": "uI-9Wn7PZzta",
        "colab_type": "code",
        "colab": {
          "base_uri": "https://localhost:8080/",
          "height": 87
        },
        "outputId": "cccbc8cb-5446-4ca6-fad3-2dd02398af83"
      },
      "source": [
        "print(\"Tensorflow version:\", tf.__version__)\n",
        "print(\"numpy version:\", np.__version__)\n",
        "print(\"pandas version:\", pd.__version__)\n",
        "print(\"Hub version:\", hub.__version__)"
      ],
      "execution_count": null,
      "outputs": [
        {
          "output_type": "stream",
          "text": [
            "Tensorflow version: 2.3.0\n",
            "numpy version: 1.18.5\n",
            "pandas version: 1.0.5\n",
            "Hub version: 0.8.0\n"
          ],
          "name": "stdout"
        }
      ]
    },
    {
      "cell_type": "markdown",
      "metadata": {
        "id": "lLpF0mRLs_J3",
        "colab_type": "text"
      },
      "source": [
        "##Preprocess data"
      ]
    },
    {
      "cell_type": "code",
      "metadata": {
        "id": "LGhhF1ias2RT",
        "colab_type": "code",
        "colab": {
          "base_uri": "https://localhost:8080/",
          "height": 197
        },
        "outputId": "58b53165-13e8-4fcb-e6e5-86106a5b105b"
      },
      "source": [
        "def remove_special_chars(tweets): # it unrolls the hashtags to normal words\n",
        "  for remove in map(lambda r: re.compile(re.escape(r)), [\",\", \":\", \"\\\"\", \"=\", \"&\", \";\", \"%\", \"$\",\n",
        "                                                        \"@\", \"%\", \"^\", \"*\", \"(\", \")\", \"{\", \"}\",\n",
        "                                                        \"[\", \"]\", \"|\", \"/\", \"\\\\\", \">\", \"<\", \"-\",\n",
        "                                                        \"!\", \"?\", \".\", \"'\",\n",
        "                                                        \" — \", \" — -\", \"#\"]):\n",
        "    tweets.replace(remove, \"\", inplace=True)\n",
        "  return tweets\n",
        "def remove_tags(text):\n",
        " return re.compile(r'<[^>]+>').sub('', text)\n",
        "def remove_num(text):\n",
        " return ''.join(re.sub(r\"([0–9]+)\",\"\",text))\n",
        "def lemmatize_stemmer(text):\n",
        "  return stemmer.stem(WordNetLemmatizer().lemmatize(text, pos='v'))\n",
        "def preprocess(text):\n",
        "  res = []\n",
        "  for token in simple_preprocess(text):\n",
        "    if token not in STOPWORDS and len(token)>3:\n",
        "      res.append(lemmatize_stemmer(token))\n",
        "  return res\n",
        "\n",
        "data = pd.read_csv('/MyDrive/My Drive/IMDB Dataset.csv')\n",
        "data.review=data.review.apply(lambda x : remove_tags(x))\n",
        "data.review=data.review.apply(lambda x : remove_num(x))\n",
        "data.review = remove_special_chars(data['review'])\n",
        "lemmatizede_text = data.review.apply(lambda x: preprocess(x))\n",
        "data.head()\n"
      ],
      "execution_count": null,
      "outputs": [
        {
          "output_type": "execute_result",
          "data": {
            "text/html": [
              "<div>\n",
              "<style scoped>\n",
              "    .dataframe tbody tr th:only-of-type {\n",
              "        vertical-align: middle;\n",
              "    }\n",
              "\n",
              "    .dataframe tbody tr th {\n",
              "        vertical-align: top;\n",
              "    }\n",
              "\n",
              "    .dataframe thead th {\n",
              "        text-align: right;\n",
              "    }\n",
              "</style>\n",
              "<table border=\"1\" class=\"dataframe\">\n",
              "  <thead>\n",
              "    <tr style=\"text-align: right;\">\n",
              "      <th></th>\n",
              "      <th>review</th>\n",
              "      <th>sentiment</th>\n",
              "    </tr>\n",
              "  </thead>\n",
              "  <tbody>\n",
              "    <tr>\n",
              "      <th>0</th>\n",
              "      <td>One of the other reviewers has mentioned that ...</td>\n",
              "      <td>positive</td>\n",
              "    </tr>\n",
              "    <tr>\n",
              "      <th>1</th>\n",
              "      <td>A wonderful little production The filming tech...</td>\n",
              "      <td>positive</td>\n",
              "    </tr>\n",
              "    <tr>\n",
              "      <th>2</th>\n",
              "      <td>I thought this was a wonderful way to spend ti...</td>\n",
              "      <td>positive</td>\n",
              "    </tr>\n",
              "    <tr>\n",
              "      <th>3</th>\n",
              "      <td>Basically theres a family where a little boy J...</td>\n",
              "      <td>negative</td>\n",
              "    </tr>\n",
              "    <tr>\n",
              "      <th>4</th>\n",
              "      <td>Petter Matteis Love in the Time of Money is a ...</td>\n",
              "      <td>positive</td>\n",
              "    </tr>\n",
              "  </tbody>\n",
              "</table>\n",
              "</div>"
            ],
            "text/plain": [
              "                                              review sentiment\n",
              "0  One of the other reviewers has mentioned that ...  positive\n",
              "1  A wonderful little production The filming tech...  positive\n",
              "2  I thought this was a wonderful way to spend ti...  positive\n",
              "3  Basically theres a family where a little boy J...  negative\n",
              "4  Petter Matteis Love in the Time of Money is a ...  positive"
            ]
          },
          "metadata": {
            "tags": []
          },
          "execution_count": 4
        }
      ]
    },
    {
      "cell_type": "code",
      "metadata": {
        "id": "2jvod3U7cNUb",
        "colab_type": "code",
        "colab": {
          "base_uri": "https://localhost:8080/",
          "height": 52
        },
        "outputId": "99ffd16a-2567-4ab7-f44b-3ce9684c649d"
      },
      "source": [
        "sentiments = data['sentiment'].values\n",
        "positives = [pos for pos in sentiments if pos=='positive']\n",
        "negatives = [neg for neg in sentiments if neg=='negative']\n",
        "\n",
        "print('Ther are {} positive sentiment.'.format(len(positives)))\n",
        "print('Ther are {} negative sentiment.'.format(len(negatives)))"
      ],
      "execution_count": null,
      "outputs": [
        {
          "output_type": "stream",
          "text": [
            "Ther are 25000 positive sentiment.\n",
            "Ther are 25000 negative sentiment.\n"
          ],
          "name": "stdout"
        }
      ]
    },
    {
      "cell_type": "code",
      "metadata": {
        "id": "s_GpbRczpN91",
        "colab_type": "code",
        "colab": {
          "base_uri": "https://localhost:8080/",
          "height": 123
        },
        "outputId": "6b1ae91b-124c-4e40-fc7d-5b6bc823bf22"
      },
      "source": [
        "lemmatizede_text.head()"
      ],
      "execution_count": null,
      "outputs": [
        {
          "output_type": "execute_result",
          "data": {
            "text/plain": [
              "0    [review, mention, watch, episod, youll, hook, ...\n",
              "1    [wonder, littl, product, film, techniqu, unass...\n",
              "2    [think, wonder, spend, time, summer, weekend, ...\n",
              "3    [basic, there, famili, littl, jake, think, the...\n",
              "4    [petter, mattei, love, time, money, visual, st...\n",
              "Name: review, dtype: object"
            ]
          },
          "metadata": {
            "tags": []
          },
          "execution_count": 6
        }
      ]
    },
    {
      "cell_type": "markdown",
      "metadata": {
        "id": "2jPlZAuEzuqc",
        "colab_type": "text"
      },
      "source": [
        "##Tokenization"
      ]
    },
    {
      "cell_type": "code",
      "metadata": {
        "id": "fhPmb9-0zAKq",
        "colab_type": "code",
        "colab": {}
      },
      "source": [
        "import pickle\n",
        "\n",
        "MAX_SEQ_LEN = 500\n",
        "#Define Tokenizer\n",
        "tokenizer = Tokenizer(num_words=5000,filters='!\"#$%&()*+,-./:;<=>?@[\\\\]^_`{|}~\\t\\n',\n",
        "                      lower=True, split=\" \")\n",
        "\n",
        "tokenizer.fit_on_texts(lemmatizede_text)\n",
        "X = tokenizer.texts_to_sequences(lemmatizede_text)\n",
        "X = pad_sequences(X, maxlen=MAX_SEQ_LEN, padding='post')\n",
        "Y = data['sentiment']\n",
        "\n",
        "vocab_size = len(tokenizer.word_index) + 1\n",
        "\n",
        "# Split train and test sets\n",
        "X_train, X_test , Y_train, Y_test = train_test_split(X, Y, test_size=0.3, random_state=24)\n",
        "\n",
        "# Store tokenizer in a file to use later \n",
        "\n",
        "from sklearn.preprocessing import LabelEncoder\n",
        "def prepare_targets(y_train, y_test):\n",
        "  le = LabelEncoder()\n",
        "  le.fit(y_train)\n",
        "  y_train_enc = le.transform(y_train)\n",
        "  y_test_enc = le.transform(y_test)\n",
        "  return y_train_enc, y_test_enc\n",
        "\n",
        "ytrain,ytest = prepare_targets(Y_train,Y_test)"
      ],
      "execution_count": null,
      "outputs": []
    },
    {
      "cell_type": "code",
      "metadata": {
        "id": "q82lm3SnE3W1",
        "colab_type": "code",
        "colab": {}
      },
      "source": [
        "with open(\"tokenizer.pickle\", 'wb') as handle:\n",
        "  pickle.dump(tokenizer, handle, protocol=pickle.HIGHEST_PROTOCOL)\n"
      ],
      "execution_count": null,
      "outputs": []
    },
    {
      "cell_type": "code",
      "metadata": {
        "id": "NSsFpQSza9c6",
        "colab_type": "code",
        "colab": {
          "base_uri": "https://localhost:8080/",
          "height": 87
        },
        "outputId": "62cf5bfe-9066-42f9-a4b4-ef914952db42"
      },
      "source": [
        "print(X_train.shape); print(X_test.shape); print(ytrain.shape); print(ytest.shape)"
      ],
      "execution_count": null,
      "outputs": [
        {
          "output_type": "stream",
          "text": [
            "(35000, 500)\n",
            "(15000, 500)\n",
            "(35000,)\n",
            "(15000,)\n"
          ],
          "name": "stdout"
        }
      ]
    },
    {
      "cell_type": "code",
      "metadata": {
        "id": "v4FQIPryqoLm",
        "colab_type": "code",
        "colab": {}
      },
      "source": [
        "def loadEmbeddingMatix(filename):\n",
        "  \"\"\"load embedding file of type word2vec from My Drive and\n",
        "  create embedding matrix \"\"\"\n",
        "  import gc\n",
        "  embed_size = 300\n",
        "  embed_idx = dict()\n",
        "    \n",
        "  word2vecDict = gensim.models.KeyedVectors.load_word2vec_format(f'/MyDrive/My Drive/3/{filename}', binary=True, unicode_errors='ignore')\n",
        "  for word in word2vecDict.wv.vocab:\n",
        "    coefs = word2vecDict.word_vec(word)\n",
        "    embed_idx[word.split('_')[0]] = coefs\n",
        "  gc.collect()\n",
        "  all_embed = np.stack(list(embed_idx.values()))\n",
        "  embed_mean , embed_dev = all_embed.mean(), all_embed.std()\n",
        "  nb_words = len(tokenizer.word_index)\n",
        "  embed_mat = np.random.normal(embed_mean, embed_dev, (nb_words, embed_size))\n",
        "  gc.collect()\n",
        "  embed_counter = 0\n",
        "  for word, i in tokenizer.word_index.items():\n",
        "    i -= 1\n",
        "    # we see if this word exists in embedding dictionary, if yes gets corresponding weights\n",
        "    embed_vec = embed_idx.get(word)\n",
        "    if embed_vec is not None:\n",
        "      embed_mat[i] = embed_vec\n",
        "      embed_counter += 1\n",
        "\n",
        "  print(f\"Total embedded: {embed_counter} common word!\")\n",
        "  del(embed_idx)\n",
        "  gc.collect()\n",
        "\n",
        "  return embed_mat"
      ],
      "execution_count": null,
      "outputs": []
    },
    {
      "cell_type": "code",
      "metadata": {
        "id": "_kEGm6s0S3wt",
        "colab_type": "code",
        "colab": {
          "base_uri": "https://localhost:8080/",
          "height": 125
        },
        "outputId": "f99ff24c-3736-458a-f9a3-d6f679a79926"
      },
      "source": [
        "embedding_matrix = loadEmbeddingMatix('model.bin')"
      ],
      "execution_count": null,
      "outputs": [
        {
          "output_type": "stream",
          "text": [
            "/usr/local/lib/python3.6/dist-packages/smart_open/smart_open_lib.py:254: UserWarning: This function is deprecated, use smart_open.open instead. See the migration notes for details: https://github.com/RaRe-Technologies/smart_open/blob/master/README.rst#migrating-to-the-new-open-function\n",
            "  'See the migration notes for details: %s' % _MIGRATION_NOTES_URL\n",
            "/usr/local/lib/python3.6/dist-packages/ipykernel_launcher.py:9: DeprecationWarning: Call to deprecated `wv` (Attribute will be removed in 4.0.0, use self instead).\n",
            "  if __name__ == '__main__':\n"
          ],
          "name": "stderr"
        },
        {
          "output_type": "stream",
          "text": [
            "Total embedded: 14415 common word!\n"
          ],
          "name": "stdout"
        }
      ]
    },
    {
      "cell_type": "markdown",
      "metadata": {
        "id": "K7-DexaGQ9gZ",
        "colab_type": "text"
      },
      "source": [
        "##Pre-trained Word Embedding weights"
      ]
    },
    {
      "cell_type": "code",
      "metadata": {
        "id": "XRBkCD0iWKRz",
        "colab_type": "code",
        "colab": {
          "base_uri": "https://localhost:8080/",
          "height": 34
        },
        "outputId": "012379c5-98fa-4cf6-81a9-45ca2ddc1cc3"
      },
      "source": [
        "embedding_matrix.shape"
      ],
      "execution_count": null,
      "outputs": [
        {
          "output_type": "execute_result",
          "data": {
            "text/plain": [
              "(161008, 300)"
            ]
          },
          "metadata": {
            "tags": []
          },
          "execution_count": 13
        }
      ]
    },
    {
      "cell_type": "markdown",
      "metadata": {
        "id": "vYGYjeskHD_7",
        "colab_type": "text"
      },
      "source": [
        "##Normal model (1 hidden layer) with pre-trained word Embedding layer"
      ]
    },
    {
      "cell_type": "code",
      "metadata": {
        "id": "nVRY_2455Hfo",
        "colab_type": "code",
        "colab": {
          "base_uri": "https://localhost:8080/",
          "height": 443
        },
        "outputId": "7f6cace2-d3c2-4692-cc68-b3455e59a56e"
      },
      "source": [
        "from tensorflow.keras.layers import Embedding, Bidirectional, LSTM, Dropout, Dense, GlobalAveragePooling1D, Input\n",
        "from tensorflow.keras.models import Model\n",
        "input_layer = Input(shape = (MAX_SEQ_LEN, ))\n",
        "embed = Embedding(len(tokenizer.word_index), embedding_matrix.shape[1],weights=[embedding_matrix], #input_length=MAX_SEQ_LEN\n",
        "                  trainable=False)(input_layer)\n",
        "x = Bidirectional(LSTM(128, return_sequences=True, name='lstm_layer'))(embed)\n",
        "x = GlobalAveragePooling1D()(x)\n",
        "x = Dropout(0.2)(x)\n",
        "x = Dense(60, activation='relu', name='hidden_1')(x)\n",
        "x = Dropout(0.2)(x)\n",
        "\n",
        "outs = Dense(1, activation='sigmoid')(x)\n",
        "\n",
        "model = Model(inputs=[input_layer], outputs=[outs])\n",
        "model.compile(optimizer='adam',\n",
        "              loss='binary_crossentropy',\n",
        "              metrics=['acc'])\n",
        "model.summary()\n"
      ],
      "execution_count": null,
      "outputs": [
        {
          "output_type": "stream",
          "text": [
            "Model: \"functional_1\"\n",
            "_________________________________________________________________\n",
            "Layer (type)                 Output Shape              Param #   \n",
            "=================================================================\n",
            "input_1 (InputLayer)         [(None, 500)]             0         \n",
            "_________________________________________________________________\n",
            "embedding (Embedding)        (None, 500, 300)          48302400  \n",
            "_________________________________________________________________\n",
            "bidirectional (Bidirectional (None, 500, 256)          439296    \n",
            "_________________________________________________________________\n",
            "global_average_pooling1d (Gl (None, 256)               0         \n",
            "_________________________________________________________________\n",
            "dropout (Dropout)            (None, 256)               0         \n",
            "_________________________________________________________________\n",
            "hidden_1 (Dense)             (None, 60)                15420     \n",
            "_________________________________________________________________\n",
            "dropout_1 (Dropout)          (None, 60)                0         \n",
            "_________________________________________________________________\n",
            "dense (Dense)                (None, 1)                 61        \n",
            "=================================================================\n",
            "Total params: 48,757,177\n",
            "Trainable params: 454,777\n",
            "Non-trainable params: 48,302,400\n",
            "_________________________________________________________________\n"
          ],
          "name": "stdout"
        }
      ]
    },
    {
      "cell_type": "markdown",
      "metadata": {
        "id": "Qf8PHW_a6R6U",
        "colab_type": "text"
      },
      "source": [
        "##Train model"
      ]
    },
    {
      "cell_type": "code",
      "metadata": {
        "id": "g5ldvWjb6W6T",
        "colab_type": "code",
        "colab": {
          "base_uri": "https://localhost:8080/",
          "height": 1000
        },
        "outputId": "1f40bcd4-3cd8-4b28-ce83-9ac8565dfb9e"
      },
      "source": [
        "from tensorflow.keras.callbacks import EarlyStopping, ModelCheckpoint\n",
        "#EarlyStopping Setting\n",
        "es = EarlyStopping(monitor='val_loss', mode='min', patience=5, verbose=1)\n",
        "#CheckPoint setting\n",
        "save_ckp = ModelCheckpoint('movie-sent-{epoch:03d}-{loss:0.2f}-{acc:0.2f}.h5',\n",
        "                           verbose=1, monitor='val_loss', mode='min', save_best_only=True)\n",
        "#Train model\n",
        "hist = model.fit(X_train, ytrain,\n",
        "                  batch_size=256,\n",
        "                  epochs=30,\n",
        "                  #validation_data=[X_test, ytest],\n",
        "                 validation_split=0.2,\n",
        "                  callbacks=[es, save_ckp],\n",
        "                 verbose=1\n",
        "                  )\n",
        "\n",
        "#We save this model so that we can use in own web app\n",
        "#model.save('movie_sent.h5')"
      ],
      "execution_count": null,
      "outputs": [
        {
          "output_type": "stream",
          "text": [
            "Epoch 1/30\n",
            "110/110 [==============================] - ETA: 0s - loss: 0.6940 - acc: 0.5005\n",
            "Epoch 00001: val_loss improved from inf to 0.69357, saving model to movie-sent-001-0.69-0.50.h5\n",
            "110/110 [==============================] - 23s 211ms/step - loss: 0.6940 - acc: 0.5005 - val_loss: 0.6936 - val_acc: 0.4924\n",
            "Epoch 2/30\n",
            "110/110 [==============================] - ETA: 0s - loss: 0.6933 - acc: 0.5000\n",
            "Epoch 00002: val_loss improved from 0.69357 to 0.69294, saving model to movie-sent-002-0.69-0.50.h5\n",
            "110/110 [==============================] - 23s 207ms/step - loss: 0.6933 - acc: 0.5000 - val_loss: 0.6929 - val_acc: 0.5199\n",
            "Epoch 3/30\n",
            "110/110 [==============================] - ETA: 0s - loss: 0.6932 - acc: 0.5058\n",
            "Epoch 00003: val_loss improved from 0.69294 to 0.69279, saving model to movie-sent-003-0.69-0.51.h5\n",
            "110/110 [==============================] - 23s 210ms/step - loss: 0.6932 - acc: 0.5058 - val_loss: 0.6928 - val_acc: 0.5084\n",
            "Epoch 4/30\n",
            "110/110 [==============================] - ETA: 0s - loss: 0.6921 - acc: 0.5115\n",
            "Epoch 00004: val_loss did not improve from 0.69279\n",
            "110/110 [==============================] - 23s 210ms/step - loss: 0.6921 - acc: 0.5115 - val_loss: 0.6937 - val_acc: 0.4924\n",
            "Epoch 5/30\n",
            "110/110 [==============================] - ETA: 0s - loss: 0.6924 - acc: 0.5149\n",
            "Epoch 00005: val_loss did not improve from 0.69279\n",
            "110/110 [==============================] - 23s 213ms/step - loss: 0.6924 - acc: 0.5149 - val_loss: 0.6935 - val_acc: 0.4924\n",
            "Epoch 6/30\n",
            "110/110 [==============================] - ETA: 0s - loss: 0.6910 - acc: 0.5149\n",
            "Epoch 00006: val_loss improved from 0.69279 to 0.69003, saving model to movie-sent-006-0.69-0.51.h5\n",
            "110/110 [==============================] - 24s 215ms/step - loss: 0.6910 - acc: 0.5149 - val_loss: 0.6900 - val_acc: 0.5260\n",
            "Epoch 7/30\n",
            "110/110 [==============================] - ETA: 0s - loss: 0.6895 - acc: 0.5296\n",
            "Epoch 00007: val_loss improved from 0.69003 to 0.68646, saving model to movie-sent-007-0.69-0.53.h5\n",
            "110/110 [==============================] - 24s 214ms/step - loss: 0.6895 - acc: 0.5296 - val_loss: 0.6865 - val_acc: 0.5669\n",
            "Epoch 8/30\n",
            "110/110 [==============================] - ETA: 0s - loss: 0.6891 - acc: 0.5405\n",
            "Epoch 00008: val_loss did not improve from 0.68646\n",
            "110/110 [==============================] - 23s 210ms/step - loss: 0.6891 - acc: 0.5405 - val_loss: 0.6874 - val_acc: 0.5420\n",
            "Epoch 9/30\n",
            "110/110 [==============================] - ETA: 0s - loss: 0.6882 - acc: 0.5460\n",
            "Epoch 00009: val_loss did not improve from 0.68646\n",
            "110/110 [==============================] - 23s 211ms/step - loss: 0.6882 - acc: 0.5460 - val_loss: 0.6909 - val_acc: 0.5351\n",
            "Epoch 10/30\n",
            "110/110 [==============================] - ETA: 0s - loss: 0.6881 - acc: 0.5403\n",
            "Epoch 00010: val_loss did not improve from 0.68646\n",
            "110/110 [==============================] - 23s 211ms/step - loss: 0.6881 - acc: 0.5403 - val_loss: 0.6916 - val_acc: 0.4976\n",
            "Epoch 11/30\n",
            "110/110 [==============================] - ETA: 0s - loss: 0.6908 - acc: 0.5346\n",
            "Epoch 00011: val_loss improved from 0.68646 to 0.68542, saving model to movie-sent-011-0.69-0.53.h5\n",
            "110/110 [==============================] - 24s 216ms/step - loss: 0.6908 - acc: 0.5346 - val_loss: 0.6854 - val_acc: 0.5330\n",
            "Epoch 12/30\n",
            "110/110 [==============================] - ETA: 0s - loss: 0.6880 - acc: 0.5429\n",
            "Epoch 00012: val_loss did not improve from 0.68542\n",
            "110/110 [==============================] - 23s 211ms/step - loss: 0.6880 - acc: 0.5429 - val_loss: 0.6900 - val_acc: 0.5409\n",
            "Epoch 13/30\n",
            "110/110 [==============================] - ETA: 0s - loss: 0.6849 - acc: 0.5624\n",
            "Epoch 00013: val_loss improved from 0.68542 to 0.67625, saving model to movie-sent-013-0.68-0.56.h5\n",
            "110/110 [==============================] - 24s 215ms/step - loss: 0.6849 - acc: 0.5624 - val_loss: 0.6763 - val_acc: 0.6130\n",
            "Epoch 14/30\n",
            "110/110 [==============================] - ETA: 0s - loss: 0.6803 - acc: 0.5700\n",
            "Epoch 00014: val_loss did not improve from 0.67625\n",
            "110/110 [==============================] - 23s 210ms/step - loss: 0.6803 - acc: 0.5700 - val_loss: 0.6859 - val_acc: 0.5734\n",
            "Epoch 15/30\n",
            "110/110 [==============================] - ETA: 0s - loss: 0.6794 - acc: 0.5685\n",
            "Epoch 00015: val_loss improved from 0.67625 to 0.66216, saving model to movie-sent-015-0.68-0.57.h5\n",
            "110/110 [==============================] - 24s 214ms/step - loss: 0.6794 - acc: 0.5685 - val_loss: 0.6622 - val_acc: 0.6013\n",
            "Epoch 16/30\n",
            "110/110 [==============================] - ETA: 0s - loss: 0.6735 - acc: 0.5895\n",
            "Epoch 00016: val_loss improved from 0.66216 to 0.64848, saving model to movie-sent-016-0.67-0.59.h5\n",
            "110/110 [==============================] - 24s 215ms/step - loss: 0.6735 - acc: 0.5895 - val_loss: 0.6485 - val_acc: 0.6464\n",
            "Epoch 17/30\n",
            "110/110 [==============================] - ETA: 0s - loss: 0.6458 - acc: 0.6321\n",
            "Epoch 00017: val_loss improved from 0.64848 to 0.62775, saving model to movie-sent-017-0.65-0.63.h5\n",
            "110/110 [==============================] - 24s 215ms/step - loss: 0.6458 - acc: 0.6321 - val_loss: 0.6278 - val_acc: 0.6607\n",
            "Epoch 18/30\n",
            "110/110 [==============================] - ETA: 0s - loss: 0.6102 - acc: 0.6756\n",
            "Epoch 00018: val_loss improved from 0.62775 to 0.57481, saving model to movie-sent-018-0.61-0.68.h5\n",
            "110/110 [==============================] - 24s 215ms/step - loss: 0.6102 - acc: 0.6756 - val_loss: 0.5748 - val_acc: 0.7087\n",
            "Epoch 19/30\n",
            "110/110 [==============================] - ETA: 0s - loss: 0.5737 - acc: 0.7104\n",
            "Epoch 00019: val_loss improved from 0.57481 to 0.55523, saving model to movie-sent-019-0.57-0.71.h5\n",
            "110/110 [==============================] - 24s 215ms/step - loss: 0.5737 - acc: 0.7104 - val_loss: 0.5552 - val_acc: 0.7253\n",
            "Epoch 20/30\n",
            "110/110 [==============================] - ETA: 0s - loss: 0.5351 - acc: 0.7371\n",
            "Epoch 00020: val_loss improved from 0.55523 to 0.53509, saving model to movie-sent-020-0.54-0.74.h5\n",
            "110/110 [==============================] - 24s 215ms/step - loss: 0.5351 - acc: 0.7371 - val_loss: 0.5351 - val_acc: 0.7319\n",
            "Epoch 21/30\n",
            "110/110 [==============================] - ETA: 0s - loss: 0.5073 - acc: 0.7519\n",
            "Epoch 00021: val_loss improved from 0.53509 to 0.50840, saving model to movie-sent-021-0.51-0.75.h5\n",
            "110/110 [==============================] - 24s 215ms/step - loss: 0.5073 - acc: 0.7519 - val_loss: 0.5084 - val_acc: 0.7470\n",
            "Epoch 22/30\n",
            "110/110 [==============================] - ETA: 0s - loss: 0.4916 - acc: 0.7623\n",
            "Epoch 00022: val_loss improved from 0.50840 to 0.47735, saving model to movie-sent-022-0.49-0.76.h5\n",
            "110/110 [==============================] - 24s 215ms/step - loss: 0.4916 - acc: 0.7623 - val_loss: 0.4773 - val_acc: 0.7670\n",
            "Epoch 23/30\n",
            "110/110 [==============================] - ETA: 0s - loss: 0.4660 - acc: 0.7782\n",
            "Epoch 00023: val_loss did not improve from 0.47735\n",
            "110/110 [==============================] - 23s 211ms/step - loss: 0.4660 - acc: 0.7782 - val_loss: 0.4888 - val_acc: 0.7639\n",
            "Epoch 24/30\n",
            "110/110 [==============================] - ETA: 0s - loss: 0.4533 - acc: 0.7826\n",
            "Epoch 00024: val_loss improved from 0.47735 to 0.45593, saving model to movie-sent-024-0.45-0.78.h5\n",
            "110/110 [==============================] - 24s 215ms/step - loss: 0.4533 - acc: 0.7826 - val_loss: 0.4559 - val_acc: 0.7803\n",
            "Epoch 25/30\n",
            "110/110 [==============================] - ETA: 0s - loss: 0.4360 - acc: 0.7942\n",
            "Epoch 00025: val_loss improved from 0.45593 to 0.45549, saving model to movie-sent-025-0.44-0.79.h5\n",
            "110/110 [==============================] - 24s 216ms/step - loss: 0.4360 - acc: 0.7942 - val_loss: 0.4555 - val_acc: 0.7851\n",
            "Epoch 26/30\n",
            "110/110 [==============================] - ETA: 0s - loss: 0.4221 - acc: 0.8042\n",
            "Epoch 00026: val_loss improved from 0.45549 to 0.44357, saving model to movie-sent-026-0.42-0.80.h5\n",
            "110/110 [==============================] - 24s 216ms/step - loss: 0.4221 - acc: 0.8042 - val_loss: 0.4436 - val_acc: 0.7927\n",
            "Epoch 27/30\n",
            "110/110 [==============================] - ETA: 0s - loss: 0.4133 - acc: 0.8095\n",
            "Epoch 00027: val_loss did not improve from 0.44357\n",
            "110/110 [==============================] - 23s 211ms/step - loss: 0.4133 - acc: 0.8095 - val_loss: 0.4784 - val_acc: 0.7727\n",
            "Epoch 28/30\n",
            "110/110 [==============================] - ETA: 0s - loss: 0.3954 - acc: 0.8212\n",
            "Epoch 00028: val_loss improved from 0.44357 to 0.42809, saving model to movie-sent-028-0.40-0.82.h5\n",
            "110/110 [==============================] - 24s 215ms/step - loss: 0.3954 - acc: 0.8212 - val_loss: 0.4281 - val_acc: 0.8019\n",
            "Epoch 29/30\n",
            "110/110 [==============================] - ETA: 0s - loss: 0.3789 - acc: 0.8314\n",
            "Epoch 00029: val_loss did not improve from 0.42809\n",
            "110/110 [==============================] - 23s 210ms/step - loss: 0.3789 - acc: 0.8314 - val_loss: 0.4429 - val_acc: 0.7967\n",
            "Epoch 30/30\n",
            "110/110 [==============================] - ETA: 0s - loss: 0.3680 - acc: 0.8373\n",
            "Epoch 00030: val_loss did not improve from 0.42809\n",
            "110/110 [==============================] - 23s 210ms/step - loss: 0.3680 - acc: 0.8373 - val_loss: 0.4363 - val_acc: 0.7964\n"
          ],
          "name": "stdout"
        }
      ]
    },
    {
      "cell_type": "code",
      "metadata": {
        "id": "tw0BDhhMqr50",
        "colab_type": "code",
        "colab": {
          "base_uri": "https://localhost:8080/",
          "height": 312
        },
        "outputId": "72b9ee56-3720-4d7f-a407-4889f284b224"
      },
      "source": [
        "# Visualize training trace\n",
        "import matplotlib.pyplot as plt\n",
        "\n",
        "plt.plot(hist.history['loss'])\n",
        "plt.plot(hist.history['val_loss'])\n",
        "plt.xlabel('Epochs')\n",
        "plt.ylabel('Loss')\n",
        "plt.title('Loss Values')\n",
        "plt.legend(['train', 'test'], loc='best')"
      ],
      "execution_count": null,
      "outputs": [
        {
          "output_type": "execute_result",
          "data": {
            "text/plain": [
              "<matplotlib.legend.Legend at 0x7f48b2f24898>"
            ]
          },
          "metadata": {
            "tags": []
          },
          "execution_count": 16
        },
        {
          "output_type": "display_data",
          "data": {
            "image/png": "[encoded data removed]",
            "text/plain": [
              "<Figure size 432x288 with 1 Axes>"
            ]
          },
          "metadata": {
            "tags": [],
            "needs_background": "light"
          }
        }
      ]
    },
    {
      "cell_type": "markdown",
      "metadata": {
        "id": "IAw-bDMrH4fI",
        "colab_type": "text"
      },
      "source": [
        "##Test with your own reviews"
      ]
    },
    {
      "cell_type": "code",
      "metadata": {
        "id": "3VzL1MX6HwLk",
        "colab_type": "code",
        "colab": {
          "base_uri": "https://localhost:8080/",
          "height": 34
        },
        "outputId": "5c941383-c5ae-402c-8258-af5579f1b3e5"
      },
      "source": [
        "string11='''Between the Lovecraftian overtones and Liberato’s performance, \n",
        "The Beach House offers up beautifully shot terror and will make you think before opening your door.'''\n",
        "x_1=tokenizer.texts_to_sequences([string11])\n",
        "x_1 = pad_sequences(x_1, maxlen=500)\n",
        "model.predict(x_1)[0][0]"
      ],
      "execution_count": null,
      "outputs": [
        {
          "output_type": "execute_result",
          "data": {
            "text/plain": [
              "0.55551064"
            ]
          },
          "metadata": {
            "tags": []
          },
          "execution_count": 17
        }
      ]
    },
    {
      "cell_type": "code",
      "metadata": {
        "id": "G3lOfrj8sy0c",
        "colab_type": "code",
        "colab": {
          "base_uri": "https://localhost:8080/",
          "height": 34
        },
        "outputId": "24a2ad80-cedf-49e6-ed29-dafd7d762ddb"
      },
      "source": [
        "from tensorflow.keras.models import load_model\n",
        "\n",
        "loaded_model = load_model('movie-sent-028-0.40-0.82.h5')\n",
        "loaded_model.predict(x_1)[0][0]"
      ],
      "execution_count": null,
      "outputs": [
        {
          "output_type": "execute_result",
          "data": {
            "text/plain": [
              "0.5372828"
            ]
          },
          "metadata": {
            "tags": []
          },
          "execution_count": 18
        }
      ]
    },
    {
      "cell_type": "code",
      "metadata": {
        "id": "FUKxL2-HP4xV",
        "colab_type": "code",
        "colab": {
          "base_uri": "https://localhost:8080/",
          "height": 70
        },
        "outputId": "30f43d97-c8e8-476d-e90f-58bd37fd6726"
      },
      "source": [
        "from sklearn.metrics import recall_score, precision_score, f1_score\n",
        "\n",
        "y_hat = model.predict(X_test)\n",
        "yhat = [x>0.6 for x in y_hat]\n",
        "prec = precision_score(y_true=ytest, y_pred=yhat); print(f'precision_score = {prec:.2f}')\n",
        "recal = recall_score(ytest, yhat); print(f\"recall_score = {recal:.2f}\")\n",
        "f_one = f1_score(ytest, yhat); print(f\"f1_score = {f_one:.2f}\")"
      ],
      "execution_count": null,
      "outputs": [
        {
          "output_type": "stream",
          "text": [
            "precision_score = 0.78\n",
            "recall_score = 0.86\n",
            "f1_score = 0.82\n"
          ],
          "name": "stdout"
        }
      ]
    },
    {
      "cell_type": "code",
      "metadata": {
        "id": "rUSV7gBjaVho",
        "colab_type": "code",
        "colab": {
          "base_uri": "https://localhost:8080/",
          "height": 70
        },
        "outputId": "7b82d004-14b1-4c34-8746-0cbdbf3c5f80"
      },
      "source": [
        "from sklearn.metrics import recall_score, precision_score, f1_score\n",
        "\n",
        "y_hat = loaded_model.predict(X_test)\n",
        "yhat = [x>0.6 for x in y_hat]\n",
        "precision = precision_score(y_true=ytest, y_pred=yhat)\n",
        "recall = recall_score(ytest, yhat)\n",
        "f1 = f1_score(ytest, yhat)\n",
        "print(\"precision score = {:.2f}\\nrecall score = {:.2f}\\nf1 score = {:.2f}\".format(precision, recall, f1))"
      ],
      "execution_count": null,
      "outputs": [
        {
          "output_type": "stream",
          "text": [
            "precision score = 0.80\n",
            "recall score = 0.81\n",
            "f1 score = 0.81\n"
          ],
          "name": "stdout"
        }
      ]
    },
    {
      "cell_type": "markdown",
      "metadata": {
        "id": "1nHz11_uHtkG",
        "colab_type": "text"
      },
      "source": [
        "##Normal model (1 hidden layer) without pre-trsined word Embedding layer"
      ]
    },
    {
      "cell_type": "markdown",
      "metadata": {
        "id": "oWn8WQa9HtKc",
        "colab_type": "text"
      },
      "source": [
        ""
      ]
    },
    {
      "cell_type": "code",
      "metadata": {
        "id": "gkV7dFxiwz9O",
        "colab_type": "code",
        "colab": {
          "base_uri": "https://localhost:8080/",
          "height": 372
        },
        "outputId": "874f8397-d5c9-4a7a-c3a5-c799ec739e94"
      },
      "source": [
        "from tensorflow.keras.models import Sequential\n",
        "seq_model = Sequential()\n",
        "seq_model.add(Embedding(len(tokenizer.word_index), 300, input_length=MAX_SEQ_LEN))\n",
        "seq_model.add(Bidirectional(LSTM(128, name='lstm_layer')))\n",
        "seq_model.add(Dropout(0.2))\n",
        "seq_model.add(Dense(60, activation='relu', name='dense_1'))\n",
        "seq_model.add(Dropout(0.2))\n",
        "seq_model.add(Dense(1,activation='sigmoid', name='output_layer'))\n",
        "seq_model.compile(optimizer='adam',\n",
        "              loss='binary_crossentropy', metrics=['acc'])\n",
        "seq_model.summary()"
      ],
      "execution_count": null,
      "outputs": [
        {
          "output_type": "stream",
          "text": [
            "Model: \"sequential_1\"\n",
            "_________________________________________________________________\n",
            "Layer (type)                 Output Shape              Param #   \n",
            "=================================================================\n",
            "embedding_2 (Embedding)      (None, 500, 300)          48302400  \n",
            "_________________________________________________________________\n",
            "bidirectional_2 (Bidirection (None, 256)               439296    \n",
            "_________________________________________________________________\n",
            "dropout_3 (Dropout)          (None, 256)               0         \n",
            "_________________________________________________________________\n",
            "dense_1 (Dense)              (None, 60)                15420     \n",
            "_________________________________________________________________\n",
            "dropout_4 (Dropout)          (None, 60)                0         \n",
            "_________________________________________________________________\n",
            "output_layer (Dense)         (None, 1)                 61        \n",
            "=================================================================\n",
            "Total params: 48,757,177\n",
            "Trainable params: 48,757,177\n",
            "Non-trainable params: 0\n",
            "_________________________________________________________________\n"
          ],
          "name": "stdout"
        }
      ]
    },
    {
      "cell_type": "code",
      "metadata": {
        "id": "Amgc4YWpwzy-",
        "colab_type": "code",
        "colab": {
          "base_uri": "https://localhost:8080/",
          "height": 550
        },
        "outputId": "705b343d-995b-4fd3-a984-8998e8d4ef2f"
      },
      "source": [
        "from keras.callbacks import EarlyStopping, ModelCheckpoint\n",
        "from time import time\n",
        "import gc\n",
        "save = ModelCheckpoint('movie_sent_seq.h5',\n",
        "                           verbose=1, monitor='val_loss', mode='min', save_best_only=True)\n",
        "es = EarlyStopping(monitor='val_loss', mode='min', verbose=1, patience=5)\n",
        "start = time()\n",
        "history=seq_model.fit(X_train, ytrain,\n",
        "                      batch_size=256,\n",
        "                      epochs=30,\n",
        "                      validation_split=0.2,\n",
        "                      #validation_data=[X_test, ytest],\n",
        "                      callbacks=[es, save]\n",
        "                      )\n",
        "print(\"Total training time:%.1f\"%(time() - start))"
      ],
      "execution_count": null,
      "outputs": [
        {
          "output_type": "stream",
          "text": [
            "Epoch 1/30\n",
            "110/110 [==============================] - ETA: 0s - loss: 0.5447 - acc: 0.7325\n",
            "Epoch 00001: val_loss improved from inf to 0.35470, saving model to movie_sent_seq.h5\n",
            "110/110 [==============================] - 73s 667ms/step - loss: 0.5447 - acc: 0.7325 - val_loss: 0.3547 - val_acc: 0.8540\n",
            "Epoch 2/30\n",
            "110/110 [==============================] - ETA: 0s - loss: 0.2944 - acc: 0.8841\n",
            "Epoch 00002: val_loss improved from 0.35470 to 0.31885, saving model to movie_sent_seq.h5\n",
            "110/110 [==============================] - 73s 660ms/step - loss: 0.2944 - acc: 0.8841 - val_loss: 0.3189 - val_acc: 0.8750\n",
            "Epoch 3/30\n",
            "110/110 [==============================] - ETA: 0s - loss: 0.2381 - acc: 0.9091\n",
            "Epoch 00003: val_loss did not improve from 0.31885\n",
            "110/110 [==============================] - 70s 639ms/step - loss: 0.2381 - acc: 0.9091 - val_loss: 0.3206 - val_acc: 0.8714\n",
            "Epoch 4/30\n",
            "110/110 [==============================] - ETA: 0s - loss: 0.2043 - acc: 0.9249\n",
            "Epoch 00004: val_loss did not improve from 0.31885\n",
            "110/110 [==============================] - 70s 640ms/step - loss: 0.2043 - acc: 0.9249 - val_loss: 0.3423 - val_acc: 0.8580\n",
            "Epoch 5/30\n",
            "110/110 [==============================] - ETA: 0s - loss: 0.1725 - acc: 0.9375\n",
            "Epoch 00005: val_loss did not improve from 0.31885\n",
            "110/110 [==============================] - 71s 642ms/step - loss: 0.1725 - acc: 0.9375 - val_loss: 0.4263 - val_acc: 0.8609\n",
            "Epoch 6/30\n",
            "110/110 [==============================] - ETA: 0s - loss: 0.1465 - acc: 0.9470\n",
            "Epoch 00006: val_loss did not improve from 0.31885\n",
            "110/110 [==============================] - 70s 641ms/step - loss: 0.1465 - acc: 0.9470 - val_loss: 0.4609 - val_acc: 0.8504\n",
            "Epoch 7/30\n",
            "110/110 [==============================] - ETA: 0s - loss: 0.1208 - acc: 0.9571\n",
            "Epoch 00007: val_loss did not improve from 0.31885\n",
            "110/110 [==============================] - 70s 638ms/step - loss: 0.1208 - acc: 0.9571 - val_loss: 0.5866 - val_acc: 0.8496\n",
            "Epoch 00007: early stopping\n",
            "Total training time:505.4\n"
          ],
          "name": "stdout"
        }
      ]
    },
    {
      "cell_type": "code",
      "metadata": {
        "id": "GXaGNil9CVIA",
        "colab_type": "code",
        "colab": {
          "base_uri": "https://localhost:8080/",
          "height": 34
        },
        "outputId": "fe2c32f9-da80-45c2-803b-cdc3f2cb9222"
      },
      "source": [
        "string11='''Between the Lovecraftian overtones and Liberato’s performance, \n",
        "The Beach House offers up beautifully shot terror and will make you think before opening your door.'''\n",
        "x_1=tokenizer.texts_to_sequences([string11])\n",
        "x_1 = pad_sequences(x_1, maxlen=500)\n",
        "seq_model.predict(x_1)[0][0]"
      ],
      "execution_count": null,
      "outputs": [
        {
          "output_type": "execute_result",
          "data": {
            "text/plain": [
              "0.37485853"
            ]
          },
          "metadata": {
            "tags": []
          },
          "execution_count": 24
        }
      ]
    },
    {
      "cell_type": "code",
      "metadata": {
        "id": "Mqlk-CPa2MVf",
        "colab_type": "code",
        "colab": {
          "base_uri": "https://localhost:8080/",
          "height": 70
        },
        "outputId": "b9725353-40c9-41b5-8433-f50800fad134"
      },
      "source": [
        "from sklearn.metrics import recall_score, precision_score, f1_score\n",
        "\n",
        "y_hat = seq_model.predict(X_test)\n",
        "yhat = [x>0.6 for x in y_hat]\n",
        "precision = precision_score(y_true=ytest, y_pred=yhat)\n",
        "recall = recall_score(ytest, yhat)\n",
        "f1 = f1_score(ytest, yhat)\n",
        "print(\"precision score = {:.2f}\\nrecall score = {:.2f}\\nf1 score = {:.2f}\".format(precision, recall, f1))"
      ],
      "execution_count": null,
      "outputs": [
        {
          "output_type": "stream",
          "text": [
            "precision score = 0.84\n",
            "recall score = 0.86\n",
            "f1 score = 0.85\n"
          ],
          "name": "stdout"
        }
      ]
    },
    {
      "cell_type": "markdown",
      "metadata": {
        "id": "pF1B1zgHFfoB",
        "colab_type": "text"
      },
      "source": [
        "##Little model neither hidden layer (just lstm & output) and pre-trained word embedding"
      ]
    },
    {
      "cell_type": "code",
      "metadata": {
        "id": "ekCVDxHyYoI2",
        "colab_type": "code",
        "colab": {
          "base_uri": "https://localhost:8080/",
          "height": 336
        },
        "outputId": "303a630a-4e22-4332-dd5b-b404fae2d175"
      },
      "source": [
        "from tensorflow.keras.layers import Embedding, Bidirectional, LSTM, Dropout, Dense, GlobalAveragePooling1D, Input\n",
        "from tensorflow.keras.models import Model\n",
        "\n",
        "input_layer = Input(shape = (MAX_SEQ_LEN, ))\n",
        "\n",
        "embed = Embedding(len(tokenizer.word_index), 300, )(input_layer)\n",
        "x = Bidirectional(LSTM(128, name='lstm_layer'))(embed)\n",
        "x = Dropout(0.2)(x)\n",
        "\n",
        "outs = Dense(1, activation='sigmoid')(x)\n",
        "\n",
        "little_model = Model(inputs=[input_layer], outputs=[outs])\n",
        "little_model.compile(optimizer='adam',\n",
        "              loss='binary_crossentropy',\n",
        "              metrics=['acc'])\n",
        "little_model.summary()\n"
      ],
      "execution_count": null,
      "outputs": [
        {
          "output_type": "stream",
          "text": [
            "Model: \"functional_3\"\n",
            "_________________________________________________________________\n",
            "Layer (type)                 Output Shape              Param #   \n",
            "=================================================================\n",
            "input_2 (InputLayer)         [(None, 500)]             0         \n",
            "_________________________________________________________________\n",
            "embedding_3 (Embedding)      (None, 500, 300)          48302400  \n",
            "_________________________________________________________________\n",
            "bidirectional_3 (Bidirection (None, 256)               439296    \n",
            "_________________________________________________________________\n",
            "dropout_5 (Dropout)          (None, 256)               0         \n",
            "_________________________________________________________________\n",
            "dense_1 (Dense)              (None, 1)                 257       \n",
            "=================================================================\n",
            "Total params: 48,741,953\n",
            "Trainable params: 48,741,953\n",
            "Non-trainable params: 0\n",
            "_________________________________________________________________\n"
          ],
          "name": "stdout"
        }
      ]
    },
    {
      "cell_type": "markdown",
      "metadata": {
        "id": "8rash22WEbt1",
        "colab_type": "text"
      },
      "source": [
        "##Customized training method"
      ]
    },
    {
      "cell_type": "code",
      "metadata": {
        "id": "qbGZsWJAPV9U",
        "colab_type": "code",
        "colab": {}
      },
      "source": [
        "def trainModel(model=None,x=None, y=None, modelName=None, esMonitor='val_loss', esMode='min', patience=5, ckpMonitor='val_loss', ckpMode='min', \n",
        "               saveBestOnly=True, validation_data=None, validation_split=0.0, batch_size=1, iteration=1, verbose=1):\n",
        "  \"\"\"define a custom training method using Earlystopping and ModelCheckpoint,\n",
        "  then save the best model and also total training time, then return the best model and \n",
        "  plots training history\"\"\"\n",
        "\n",
        "  import tensorflow_hub as hub\n",
        "  from tensorflow.keras.callbacks import EarlyStopping, ModelCheckpoint\n",
        "  from tensorflow.keras.models import load_model\n",
        "  from time import time\n",
        "  import gc\n",
        "  \n",
        "  #check if model is empty\n",
        "  if model is None:\n",
        "    raise ValueError(\"You must enter a model object to train, it cannot be empty!\")\n",
        "\n",
        "  #check if x & y is enetred\n",
        "  if x is None:\n",
        "    #(\"Please enter learning data ...\")\n",
        "    raise ValueError(\"Training data have missed! please enter X_train.\")\n",
        "  \n",
        "  if y is None:\n",
        "    raise ValueError(\"Please enter target data ...\")\n",
        "\n",
        "  if modelName is None:\n",
        "    raise ValueError(\"Please enter model name to save trained best model!\")\n",
        "\n",
        "  # define EarlyStopping \n",
        "  es = EarlyStopping(monitor=esMonitor, mode=esMode, verbose=verbose, patience=patience)\n",
        "  #CheckPoint setting\n",
        "  save = ModelCheckpoint(modelName,\n",
        "                            verbose=verbose, monitor=ckpMonitor, mode=ckpMode, \n",
        "                             save_best_only=saveBestOnly)\n",
        "  #Train model\n",
        "  start = time()\n",
        "  hist = model.fit(x, y,\n",
        "                    batch_size=batch_size,\n",
        "                    epochs=iteration,\n",
        "                    validation_data=validation_data,\n",
        "                    validation_split=validation_split,\n",
        "                    callbacks=[es, save],\n",
        "                    verbose=verbose\n",
        "                    )\n",
        "  training_period = time() - start\n",
        "  print(f\"Trained in {training_period :.1f} seconds.\")\n",
        "\n",
        "  del(es, save)\n",
        "  gc.collect()\n",
        "  #checks if is there a Keras_Layer in the model\n",
        "  is_keras_layer = False\n",
        "  for x in model.layers[::-1]:\n",
        "    if isinstance(x, hub.KerasLayer):\n",
        "      is_keras_layer = True\n",
        "      model = load_model(modelName, custom_objects={'KerasLayer':hub.KerasLayer})\n",
        "\n",
        "  if not is_keras_layer:\n",
        "    model = load_model(modelName)\n",
        "  return [model, hist]"
      ],
      "execution_count": null,
      "outputs": []
    },
    {
      "cell_type": "code",
      "metadata": {
        "id": "8Pi2skJBlYvk",
        "colab_type": "code",
        "colab": {
          "base_uri": "https://localhost:8080/",
          "height": 550
        },
        "outputId": "89e62152-1635-44cb-b8a9-56a1689fd367"
      },
      "source": [
        "little_model, hist = trainModel(little_model, X_train, ytrain, 'movie_sent_little.h5', validation_split=0.2, batch_size=256, iteration=30)"
      ],
      "execution_count": null,
      "outputs": [
        {
          "output_type": "stream",
          "text": [
            "Epoch 1/30\n",
            "110/110 [==============================] - ETA: 0s - loss: 0.4860 - acc: 0.7652\n",
            "Epoch 00001: val_loss improved from inf to 0.34052, saving model to movie_sent_little.h5\n",
            "110/110 [==============================] - 74s 674ms/step - loss: 0.4860 - acc: 0.7652 - val_loss: 0.3405 - val_acc: 0.8636\n",
            "Epoch 2/30\n",
            "110/110 [==============================] - ETA: 0s - loss: 0.2835 - acc: 0.8887\n",
            "Epoch 00002: val_loss improved from 0.34052 to 0.30996, saving model to movie_sent_little.h5\n",
            "110/110 [==============================] - 73s 659ms/step - loss: 0.2835 - acc: 0.8887 - val_loss: 0.3100 - val_acc: 0.8761\n",
            "Epoch 3/30\n",
            "110/110 [==============================] - ETA: 0s - loss: 0.2388 - acc: 0.9072\n",
            "Epoch 00003: val_loss did not improve from 0.30996\n",
            "110/110 [==============================] - 71s 641ms/step - loss: 0.2388 - acc: 0.9072 - val_loss: 0.3252 - val_acc: 0.8704\n",
            "Epoch 4/30\n",
            "110/110 [==============================] - ETA: 0s - loss: 0.2046 - acc: 0.9223\n",
            "Epoch 00004: val_loss did not improve from 0.30996\n",
            "110/110 [==============================] - 70s 638ms/step - loss: 0.2046 - acc: 0.9223 - val_loss: 0.3436 - val_acc: 0.8660\n",
            "Epoch 5/30\n",
            "110/110 [==============================] - ETA: 0s - loss: 0.1838 - acc: 0.9309\n",
            "Epoch 00005: val_loss did not improve from 0.30996\n",
            "110/110 [==============================] - 70s 638ms/step - loss: 0.1838 - acc: 0.9309 - val_loss: 0.3791 - val_acc: 0.8640\n",
            "Epoch 6/30\n",
            "110/110 [==============================] - ETA: 0s - loss: 0.1849 - acc: 0.9305\n",
            "Epoch 00006: val_loss did not improve from 0.30996\n",
            "110/110 [==============================] - 70s 633ms/step - loss: 0.1849 - acc: 0.9305 - val_loss: 0.4181 - val_acc: 0.8614\n",
            "Epoch 7/30\n",
            "110/110 [==============================] - ETA: 0s - loss: 0.1612 - acc: 0.9412\n",
            "Epoch 00007: val_loss did not improve from 0.30996\n",
            "110/110 [==============================] - 69s 628ms/step - loss: 0.1612 - acc: 0.9412 - val_loss: 0.4036 - val_acc: 0.8457\n",
            "Epoch 00007: early stopping\n",
            "Time in 503.9 seconds\n"
          ],
          "name": "stdout"
        }
      ]
    },
    {
      "cell_type": "code",
      "metadata": {
        "id": "A789DIyEk3_o",
        "colab_type": "code",
        "colab": {}
      },
      "source": [
        "def visualization(hist):\n",
        "  import matplotlib.pyplot as plt\n",
        "\n",
        "  plt.plot(hist.history['loss'], label='train')\n",
        "  plt.plot(hist.history['val_loss'], label='test')\n",
        "  plt.title('Loss')\n",
        "  plt.xlabel('epochs')\n",
        "  plt.legend()\n",
        "  plt.show()\n",
        "  plt.plot(hist.history['acc'], label='train')\n",
        "  plt.plot(hist.history['val_acc'], label='test')\n",
        "  plt.legend()\n",
        "  plt.title(\"Accuracy\")\n",
        "  plt.xlabel(\"epochs\")\n",
        "  plt.show()"
      ],
      "execution_count": null,
      "outputs": []
    },
    {
      "cell_type": "code",
      "metadata": {
        "id": "0jWmODqPt2Ob",
        "colab_type": "code",
        "colab": {
          "base_uri": "https://localhost:8080/",
          "height": 573
        },
        "outputId": "12710a06-afbb-45f6-935b-eb775465439b"
      },
      "source": [
        "visualization(hist)"
      ],
      "execution_count": null,
      "outputs": [
        {
          "output_type": "display_data",
          "data": {
            "image/png": "[encoded data removed]",
            "text/plain": [
              "<Figure size 432x288 with 1 Axes>"
            ]
          },
          "metadata": {
            "tags": [],
            "needs_background": "light"
          }
        },
        {
          "output_type": "display_data",
          "data": {
            "image/png": "[encoded data removed]",
            "text/plain": [
              "<Figure size 432x288 with 1 Axes>"
            ]
          },
          "metadata": {
            "tags": [],
            "needs_background": "light"
          }
        }
      ]
    },
    {
      "cell_type": "code",
      "metadata": {
        "id": "L3-CCgotWOsY",
        "colab_type": "code",
        "colab": {
          "base_uri": "https://localhost:8080/",
          "height": 34
        },
        "outputId": "b04dda5c-64cb-471f-fb43-32dea99172ef"
      },
      "source": [
        "string11='''Between the Lovecraftian overtones and Liberato’s performance, \n",
        "The Beach House offers up beautifully shot terror and will make you think before opening your door.'''\n",
        "x_1=tokenizer.texts_to_sequences([string11])\n",
        "x_1 = pad_sequences(x_1, maxlen=500, padding='post')\n",
        "little_model.predict(x_1)[0][0]"
      ],
      "execution_count": null,
      "outputs": [
        {
          "output_type": "execute_result",
          "data": {
            "text/plain": [
              "0.43343645"
            ]
          },
          "metadata": {
            "tags": []
          },
          "execution_count": 37
        }
      ]
    },
    {
      "cell_type": "code",
      "metadata": {
        "id": "ZXmwaNHKWOzJ",
        "colab_type": "code",
        "colab": {
          "base_uri": "https://localhost:8080/",
          "height": 70
        },
        "outputId": "5be786d1-8760-40fe-cc18-cb1d815c3f0f"
      },
      "source": [
        "\n",
        "\n",
        "from sklearn.metrics import recall_score, precision_score, f1_score\n",
        "\n",
        "y_hat = little_model.predict(X_test)\n",
        "yhat = [x>0.6 for x in y_hat]\n",
        "precision = precision_score(y_true=ytest, y_pred=yhat)\n",
        "recall = recall_score(ytest, yhat)\n",
        "f1 = f1_score(ytest, yhat)\n",
        "print(\"precision score = {:.2f}\\nrecall score = {:.2f}\\nf1 score = {:.2f}\".format(precision, recall, f1))"
      ],
      "execution_count": null,
      "outputs": [
        {
          "output_type": "stream",
          "text": [
            "precision score = 0.88\n",
            "recall score = 0.85\n",
            "f1 score = 0.87\n"
          ],
          "name": "stdout"
        }
      ]
    },
    {
      "cell_type": "markdown",
      "metadata": {
        "id": "GsfmdfrRrcvX",
        "colab_type": "text"
      },
      "source": [
        "##Extended model (2 lstm & 2 hidden layers) with pre-trained word Embedding layer"
      ]
    },
    {
      "cell_type": "code",
      "metadata": {
        "id": "yr1o3u0YWOf-",
        "colab_type": "code",
        "colab": {
          "base_uri": "https://localhost:8080/",
          "height": 585
        },
        "outputId": "647d5ff3-fef4-493d-90ec-4bb050f26b73"
      },
      "source": [
        "from tensorflow.keras.layers import Embedding, Bidirectional, LSTM, Dropout, Dense, GlobalAveragePooling1D, Input\n",
        "from tensorflow.keras.models import Model\n",
        "\n",
        "input_layer = Input(shape = (MAX_SEQ_LEN, ))\n",
        "\n",
        "embed = Embedding(len(tokenizer.word_index), embedding_matrix.shape[1],\n",
        "                  weights=[embedding_matrix], trainable=False)(input_layer)\n",
        "\n",
        "x = Bidirectional(LSTM(256, return_sequences=True, name='lstm_1'))(embed)\n",
        "x = Dropout(0.5)(x)\n",
        "x = Bidirectional(LSTM(128, return_sequences=True, name='lstm_2'))(x)\n",
        "x = GlobalAveragePooling1D()(x)\n",
        "x = Dropout(0.2)(x)\n",
        "\n",
        "x = Dense(256, activation='relu', name='dense_1')(x) # 1st hidden layer\n",
        "x = Dropout(0.2)(x)\n",
        "x = Dense(128, activation='relu', name='dense_2')(x)\n",
        "x = Dropout(0.2)(x)\n",
        "# output layer\n",
        "outs = Dense(1, activation='sigmoid')(x)\n",
        "# Model defenition\n",
        "extended_model = Model(inputs=[input_layer], outputs=[outs])\n",
        "extended_model.compile(optimizer='adam',\n",
        "              loss='binary_crossentropy',\n",
        "              metrics=['acc'])\n",
        "extended_model.summary()\n"
      ],
      "execution_count": null,
      "outputs": [
        {
          "output_type": "stream",
          "text": [
            "Model: \"functional_6\"\n",
            "_________________________________________________________________\n",
            "Layer (type)                 Output Shape              Param #   \n",
            "=================================================================\n",
            "input_6 (InputLayer)         [(None, 500)]             0         \n",
            "_________________________________________________________________\n",
            "embedding_6 (Embedding)      (None, 500, 300)          48302400  \n",
            "_________________________________________________________________\n",
            "bidirectional_8 (Bidirection (None, 500, 512)          1140736   \n",
            "_________________________________________________________________\n",
            "dropout_14 (Dropout)         (None, 500, 512)          0         \n",
            "_________________________________________________________________\n",
            "bidirectional_9 (Bidirection (None, 500, 256)          656384    \n",
            "_________________________________________________________________\n",
            "global_average_pooling1d_3 ( (None, 256)               0         \n",
            "_________________________________________________________________\n",
            "dropout_15 (Dropout)         (None, 256)               0         \n",
            "_________________________________________________________________\n",
            "dense_1 (Dense)              (None, 256)               65792     \n",
            "_________________________________________________________________\n",
            "dropout_16 (Dropout)         (None, 256)               0         \n",
            "_________________________________________________________________\n",
            "dense_2 (Dense)              (None, 128)               32896     \n",
            "_________________________________________________________________\n",
            "dropout_17 (Dropout)         (None, 128)               0         \n",
            "_________________________________________________________________\n",
            "dense_3 (Dense)              (None, 1)                 129       \n",
            "=================================================================\n",
            "Total params: 50,198,337\n",
            "Trainable params: 1,895,937\n",
            "Non-trainable params: 48,302,400\n",
            "_________________________________________________________________\n"
          ],
          "name": "stdout"
        }
      ]
    },
    {
      "cell_type": "code",
      "metadata": {
        "id": "TKAQAlDB0aPk",
        "colab_type": "code",
        "colab": {
          "base_uri": "https://localhost:8080/",
          "height": 976
        },
        "outputId": "989d7696-f2fc-441a-f6ab-35f3dea75bcb"
      },
      "source": [
        "extended_model, hist = trainModel(extended_model, X_train, ytrain, 'movie_sent_little.h5', validation_split=0.2, batch_size=256, iteration=30)"
      ],
      "execution_count": null,
      "outputs": [
        {
          "output_type": "stream",
          "text": [
            "Epoch 1/30\n",
            "110/110 [==============================] - ETA: 0s - loss: 0.6951 - acc: 0.4965\n",
            "Epoch 00001: val_loss improved from inf to 0.69463, saving model to movie_sent_little.h5\n",
            "110/110 [==============================] - 82s 747ms/step - loss: 0.6951 - acc: 0.4965 - val_loss: 0.6946 - val_acc: 0.4924\n",
            "Epoch 2/30\n",
            "110/110 [==============================] - ETA: 0s - loss: 0.6933 - acc: 0.5124\n",
            "Epoch 00002: val_loss improved from 0.69463 to 0.69279, saving model to movie_sent_little.h5\n",
            "110/110 [==============================] - 75s 679ms/step - loss: 0.6933 - acc: 0.5124 - val_loss: 0.6928 - val_acc: 0.5076\n",
            "Epoch 3/30\n",
            "110/110 [==============================] - ETA: 0s - loss: 0.6930 - acc: 0.5131\n",
            "Epoch 00003: val_loss improved from 0.69279 to 0.69197, saving model to movie_sent_little.h5\n",
            "110/110 [==============================] - 74s 672ms/step - loss: 0.6930 - acc: 0.5131 - val_loss: 0.6920 - val_acc: 0.5221\n",
            "Epoch 4/30\n",
            "110/110 [==============================] - ETA: 0s - loss: 0.6927 - acc: 0.5147\n",
            "Epoch 00004: val_loss did not improve from 0.69197\n",
            "110/110 [==============================] - 73s 664ms/step - loss: 0.6927 - acc: 0.5147 - val_loss: 0.6940 - val_acc: 0.4924\n",
            "Epoch 5/30\n",
            "110/110 [==============================] - ETA: 0s - loss: 0.6938 - acc: 0.5120\n",
            "Epoch 00005: val_loss did not improve from 0.69197\n",
            "110/110 [==============================] - 73s 666ms/step - loss: 0.6938 - acc: 0.5120 - val_loss: 0.6936 - val_acc: 0.4924\n",
            "Epoch 6/30\n",
            "110/110 [==============================] - ETA: 0s - loss: 0.6929 - acc: 0.5110\n",
            "Epoch 00006: val_loss did not improve from 0.69197\n",
            "110/110 [==============================] - 73s 667ms/step - loss: 0.6929 - acc: 0.5110 - val_loss: 0.6925 - val_acc: 0.4924\n",
            "Epoch 7/30\n",
            "110/110 [==============================] - ETA: 0s - loss: 0.6931 - acc: 0.5082\n",
            "Epoch 00007: val_loss did not improve from 0.69197\n",
            "110/110 [==============================] - 73s 666ms/step - loss: 0.6931 - acc: 0.5082 - val_loss: 0.6932 - val_acc: 0.4924\n",
            "Epoch 8/30\n",
            "110/110 [==============================] - ETA: 0s - loss: 0.6928 - acc: 0.5115\n",
            "Epoch 00008: val_loss improved from 0.69197 to 0.69099, saving model to movie_sent_little.h5\n",
            "110/110 [==============================] - 74s 672ms/step - loss: 0.6928 - acc: 0.5115 - val_loss: 0.6910 - val_acc: 0.5287\n",
            "Epoch 9/30\n",
            "110/110 [==============================] - ETA: 0s - loss: 0.6926 - acc: 0.5105\n",
            "Epoch 00009: val_loss did not improve from 0.69099\n",
            "110/110 [==============================] - 73s 666ms/step - loss: 0.6926 - acc: 0.5105 - val_loss: 0.6928 - val_acc: 0.5119\n",
            "Epoch 10/30\n",
            "110/110 [==============================] - ETA: 0s - loss: 0.6930 - acc: 0.5078\n",
            "Epoch 00010: val_loss did not improve from 0.69099\n",
            "110/110 [==============================] - 73s 665ms/step - loss: 0.6930 - acc: 0.5078 - val_loss: 0.6931 - val_acc: 0.5109\n",
            "Epoch 11/30\n",
            "110/110 [==============================] - ETA: 0s - loss: 0.6931 - acc: 0.5074\n",
            "Epoch 00011: val_loss did not improve from 0.69099\n",
            "110/110 [==============================] - 73s 664ms/step - loss: 0.6931 - acc: 0.5074 - val_loss: 0.6932 - val_acc: 0.5144\n",
            "Epoch 12/30\n",
            "110/110 [==============================] - ETA: 0s - loss: 0.6926 - acc: 0.5133\n",
            "Epoch 00012: val_loss did not improve from 0.69099\n",
            "110/110 [==============================] - 73s 666ms/step - loss: 0.6926 - acc: 0.5133 - val_loss: 0.6932 - val_acc: 0.5116\n",
            "Epoch 13/30\n",
            "110/110 [==============================] - ETA: 0s - loss: 0.6929 - acc: 0.5080\n",
            "Epoch 00013: val_loss did not improve from 0.69099\n",
            "110/110 [==============================] - 73s 666ms/step - loss: 0.6929 - acc: 0.5080 - val_loss: 0.6930 - val_acc: 0.5096\n",
            "Epoch 00013: early stopping\n",
            "Time in 976.6 seconds\n"
          ],
          "name": "stdout"
        }
      ]
    },
    {
      "cell_type": "code",
      "metadata": {
        "id": "_BGNSfD70m_P",
        "colab_type": "code",
        "colab": {
          "base_uri": "https://localhost:8080/",
          "height": 573
        },
        "outputId": "c2393b9e-de7b-49b8-aa69-7703e18aa661"
      },
      "source": [
        "visualization(hist)"
      ],
      "execution_count": null,
      "outputs": [
        {
          "output_type": "display_data",
          "data": {
            "image/png": "[encoded data removed]",
            "text/plain": [
              "<Figure size 432x288 with 1 Axes>"
            ]
          },
          "metadata": {
            "tags": [],
            "needs_background": "light"
          }
        },
        {
          "output_type": "display_data",
          "data": {
            "image/png": "[encoded data removed]",
            "text/plain": [
              "<Figure size 432x288 with 1 Axes>"
            ]
          },
          "metadata": {
            "tags": [],
            "needs_background": "light"
          }
        }
      ]
    },
    {
      "cell_type": "code",
      "metadata": {
        "id": "kFh02t0EuWiQ",
        "colab_type": "code",
        "colab": {
          "base_uri": "https://localhost:8080/",
          "height": 70
        },
        "outputId": "50ea69b0-979e-4a5b-bc3e-90163b8228df"
      },
      "source": [
        "from tensorflow.keras.models import load_model\n",
        "from sklearn.metrics import precision_score, recall_score, f1_score\n",
        "\n",
        "\n",
        "y_hat = extended_model.predict(X_test)\n",
        "yhat = [x>0.6 for x in y_hat]\n",
        "prec = precision_score(ytest, yhat)\n",
        "recal = recall_score(ytest, yhat)\n",
        "f_one = f1_score(ytest, yhat)\n",
        "print(\"precision score = {:.2f}\".format(prec))\n",
        "print(\"recall score = {:.2f}\".format(recal))\n",
        "print(\"f1 score = {:.2f}\".format(f_one))"
      ],
      "execution_count": null,
      "outputs": [
        {
          "output_type": "stream",
          "text": [
            "precision score = 0.78\n",
            "recall score = 0.00\n",
            "f1 score = 0.00\n"
          ],
          "name": "stdout"
        }
      ]
    },
    {
      "cell_type": "code",
      "metadata": {
        "id": "SBKa1yC2w-BC",
        "colab_type": "code",
        "colab": {
          "base_uri": "https://localhost:8080/",
          "height": 34
        },
        "outputId": "299eb51a-6244-4244-b0e6-88d277d89153"
      },
      "source": [
        "string11='''Between the Lovecraftian overtones and Liberato’s performance, \n",
        "The Beach House offers up beautifully shot terror and will make you think before opening your door.'''\n",
        "x_1=tokenizer.texts_to_sequences([string11])\n",
        "x_1 = pad_sequences(x_1, maxlen=500, padding='post')\n",
        "extended_model.predict(x_1)[0][0]"
      ],
      "execution_count": null,
      "outputs": [
        {
          "output_type": "execute_result",
          "data": {
            "text/plain": [
              "0.52279735"
            ]
          },
          "metadata": {
            "tags": []
          },
          "execution_count": 52
        }
      ]
    },
    {
      "cell_type": "markdown",
      "metadata": {
        "id": "tbkDDv8Ut4JK",
        "colab_type": "text"
      },
      "source": [
        "#Compare with BERT model"
      ]
    },
    {
      "cell_type": "markdown",
      "metadata": {
        "id": "Q4EyOjPqu7IE",
        "colab_type": "text"
      },
      "source": [
        "##Install prerequisites to use BERT"
      ]
    },
    {
      "cell_type": "code",
      "metadata": {
        "id": "HakqXUgDOukF",
        "colab_type": "code",
        "colab": {
          "base_uri": "https://localhost:8080/",
          "height": 123
        },
        "outputId": "bcefcf51-6bc0-44ca-b36b-aac8b18ffe64"
      },
      "source": [
        "!pip install bert-for-tf2\n",
        "!pip install sentencepiece"
      ],
      "execution_count": null,
      "outputs": [
        {
          "output_type": "stream",
          "text": [
            "Requirement already satisfied: bert-for-tf2 in /usr/local/lib/python3.6/dist-packages (0.14.5)\n",
            "Requirement already satisfied: params-flow>=0.8.0 in /usr/local/lib/python3.6/dist-packages (from bert-for-tf2) (0.8.2)\n",
            "Requirement already satisfied: py-params>=0.9.6 in /usr/local/lib/python3.6/dist-packages (from bert-for-tf2) (0.9.7)\n",
            "Requirement already satisfied: numpy in /usr/local/lib/python3.6/dist-packages (from params-flow>=0.8.0->bert-for-tf2) (1.18.5)\n",
            "Requirement already satisfied: tqdm in /usr/local/lib/python3.6/dist-packages (from params-flow>=0.8.0->bert-for-tf2) (4.41.1)\n",
            "Requirement already satisfied: sentencepiece in /usr/local/lib/python3.6/dist-packages (0.1.91)\n"
          ],
          "name": "stdout"
        }
      ]
    },
    {
      "cell_type": "code",
      "metadata": {
        "id": "YHCzesEsgkny",
        "colab_type": "code",
        "colab": {
          "base_uri": "https://localhost:8080/",
          "height": 70
        },
        "outputId": "96fcff57-b960-481e-94ef-b800998518e3"
      },
      "source": [
        "import tensorflow_hub as hub\n",
        "import bert\n",
        "\n",
        "print(\"Tensoflow version:\", tf.__version__)\n",
        "print(\"Hub version:\", hub.__version__)\n",
        "print(\"BERT version:\", bert.__version__)"
      ],
      "execution_count": null,
      "outputs": [
        {
          "output_type": "stream",
          "text": [
            "Tensoflow version: 2.3.0\n",
            "Hub version: 0.8.0\n",
            "BERT version: 0.14.5\n"
          ],
          "name": "stdout"
        }
      ]
    },
    {
      "cell_type": "markdown",
      "metadata": {
        "id": "k9tCRYlfxLw8",
        "colab_type": "text"
      },
      "source": [
        "##Sentiment Analysis using BERT\n",
        "#Importing BERT Layer"
      ]
    },
    {
      "cell_type": "code",
      "metadata": {
        "id": "Tln6CU7xERwd",
        "colab_type": "code",
        "colab": {
          "base_uri": "https://localhost:8080/",
          "height": 34
        },
        "outputId": "fe97cf32-76a4-49ac-d82f-e0f9bcb181af"
      },
      "source": [
        "import tensorflow as tf\n",
        "import tensorflow_hub as hub\n",
        "\n",
        "hub_url = \"https://tfhub.dev/google/tf2-preview/nnlm-en-dim128/1\"\n",
        "embed = hub.KerasLayer(hub_url)\n",
        "embeddings = embed([\"A long sentence.\", \"single-word\", \"http://example.com\"])\n",
        "print(embeddings.shape, embeddings.dtype)"
      ],
      "execution_count": null,
      "outputs": [
        {
          "output_type": "stream",
          "text": [
            "(3, 128) <dtype: 'float32'>\n"
          ],
          "name": "stdout"
        }
      ]
    },
    {
      "cell_type": "code",
      "metadata": {
        "id": "n_cFTR5RGUu1",
        "colab_type": "code",
        "colab": {
          "base_uri": "https://localhost:8080/",
          "height": 477
        },
        "outputId": "8e5b271c-430b-434b-bb02-79cdd0c132a5"
      },
      "source": [
        "import matplotlib.pyplot as plt\n",
        "rev_len = [len(rev) for rev in data.review]\n",
        "plt.hist(rev_len, bins=30)"
      ],
      "execution_count": null,
      "outputs": [
        {
          "output_type": "execute_result",
          "data": {
            "text/plain": [
              "(array([4.9700e+03, 1.9726e+04, 1.0641e+04, 5.3500e+03, 3.2530e+03,\n",
              "        1.9670e+03, 1.3650e+03, 8.6300e+02, 6.0600e+02, 4.2500e+02,\n",
              "        3.0800e+02, 2.6900e+02, 1.9800e+02, 3.0000e+01, 5.0000e+00,\n",
              "        8.0000e+00, 2.0000e+00, 3.0000e+00, 2.0000e+00, 1.0000e+00,\n",
              "        1.0000e+00, 2.0000e+00, 1.0000e+00, 0.0000e+00, 0.0000e+00,\n",
              "        0.0000e+00, 1.0000e+00, 2.0000e+00, 0.0000e+00, 1.0000e+00]),\n",
              " array([   30. ,   471.9,   913.8,  1355.7,  1797.6,  2239.5,  2681.4,\n",
              "         3123.3,  3565.2,  4007.1,  4449. ,  4890.9,  5332.8,  5774.7,\n",
              "         6216.6,  6658.5,  7100.4,  7542.3,  7984.2,  8426.1,  8868. ,\n",
              "         9309.9,  9751.8, 10193.7, 10635.6, 11077.5, 11519.4, 11961.3,\n",
              "        12403.2, 12845.1, 13287. ]),\n",
              " <a list of 30 Patch objects>)"
            ]
          },
          "metadata": {
            "tags": []
          },
          "execution_count": 13
        },
        {
          "output_type": "display_data",
          "data": {
            "image/png": "[encoded data removed]",
            "text/plain": [
              "<Figure size 432x288 with 1 Axes>"
            ]
          },
          "metadata": {
            "tags": [],
            "needs_background": "light"
          }
        }
      ]
    },
    {
      "cell_type": "code",
      "metadata": {
        "id": "EXDJ-YuLQ1TD",
        "colab_type": "code",
        "colab": {
          "base_uri": "https://localhost:8080/",
          "height": 70
        },
        "outputId": "ed44b91f-9bcf-47e7-9b16-d32090e6175d"
      },
      "source": [
        "import numpy as np\n",
        "\n",
        "print(\"max length = {}\".format(max(rev_len)))\n",
        "print(\"mean length = {:.1f}\".format(np.mean(rev_len)))\n",
        "print(\"median length = {:.2f}\".format(np.median(rev_len)))"
      ],
      "execution_count": null,
      "outputs": [
        {
          "output_type": "stream",
          "text": [
            "max length = 13287\n",
            "mean length = 1243.7\n",
            "median length = 922.00\n"
          ],
          "name": "stdout"
        }
      ]
    },
    {
      "cell_type": "code",
      "metadata": {
        "id": "N86lgCZjwk2R",
        "colab_type": "code",
        "colab": {}
      },
      "source": [
        "def get_masks(tokens, max_seq_length):\n",
        "    return [1]*len(tokens) + [0] * (max_seq_length - len(tokens))\n",
        " \n",
        "def get_segments(tokens, max_seq_length):\n",
        "    \"\"\"Segments: 0 for the first sequence, 1 for the second\"\"\"\n",
        "    segments = []\n",
        "    current_segment_id = 0\n",
        "    for token in tokens:\n",
        "        segments.append(current_segment_id)\n",
        "        if token == \"[SEP]\":\n",
        "            current_segment_id = 1\n",
        "    return segments + [0] * (max_seq_length - len(tokens))\n",
        "\n",
        "def get_ids(tokens, tokenizer, max_seq_length):\n",
        "    \"\"\"Token ids from Tokenizer vocab\"\"\"\n",
        "    token_ids = tokenizer.convert_tokens_to_ids(tokens,)\n",
        "    input_ids = token_ids + [0] * (max_seq_length-len(token_ids))\n",
        "    return input_ids"
      ],
      "execution_count": null,
      "outputs": []
    },
    {
      "cell_type": "code",
      "metadata": {
        "id": "vdt5z2NJx_8p",
        "colab_type": "code",
        "colab": {}
      },
      "source": [
        "MAX_SEQ_LEN = 500\n",
        "# Define BERT layer inputs\n",
        "input_word_ids = tf.keras.layers.Input(shape=(MAX_SEQ_LEN,), dtype=tf.int32, name=\"input_word_ids\")\n",
        " \n",
        "input_mask = tf.keras.layers.Input(shape=(MAX_SEQ_LEN,), dtype=tf.int32, name=\"input_mask\")\n",
        " \n",
        "segment_ids = tf.keras.layers.Input(shape=(MAX_SEQ_LEN,), dtype=tf.int32,\n",
        "                                    name=\"segment_ids\")\n",
        "# Define BERT\n",
        "bert_layer=hub.KerasLayer(\"https://tfhub.dev/tensorflow/bert_en_wwm_uncased_L-24_H-1024_A-16/2\", trainable=False)\n",
        "# define BERT outputs\n",
        "pooled_output, sequence_output = bert_layer([input_word_ids, input_mask, segment_ids])"
      ],
      "execution_count": null,
      "outputs": []
    },
    {
      "cell_type": "code",
      "metadata": {
        "id": "9I54EWHg0ev7",
        "colab_type": "code",
        "colab": {}
      },
      "source": [
        "# BERT Tokenizer\n",
        "FullTokenizer=bert.bert_tokenization.FullTokenizer\n",
        "vocab_file = bert_layer.resolved_object.vocab_file.asset_path.numpy()\n",
        "                                      \n",
        "do_lower_case = bert_layer.resolved_object.do_lower_case.numpy()\n",
        "\n",
        "bert_tokenizer=FullTokenizer(vocab_file,do_lower_case)"
      ],
      "execution_count": null,
      "outputs": []
    },
    {
      "cell_type": "code",
      "metadata": {
        "id": "YrabocSP43_-",
        "colab_type": "code",
        "colab": {}
      },
      "source": [
        "import pickle\n",
        "\n",
        "with open(\"bert_tokenizer.pickle\", 'wb') as handle:\n",
        "  pickle.dump(bert_tokenizer, handle, protocol=pickle.HIGHEST_PROTOCOL)\n"
      ],
      "execution_count": null,
      "outputs": []
    },
    {
      "cell_type": "code",
      "metadata": {
        "id": "p4I5gOoM1ETU",
        "colab_type": "code",
        "colab": {}
      },
      "source": [
        "def create_single_input(sentence,MAX_LEN):\n",
        "  \n",
        "  stokens = bert_tokenizer.tokenize(sentence)\n",
        "  \n",
        "  stokens = stokens[:MAX_LEN]\n",
        "  \n",
        "  stokens = [\"[CLS]\"] + stokens + [\"[SEP]\"]\n",
        " \n",
        "  ids = get_ids(stokens, bert_tokenizer, MAX_SEQ_LEN)\n",
        "  masks = get_masks(stokens, MAX_SEQ_LEN)\n",
        "  segments = get_segments(stokens, MAX_SEQ_LEN)\n",
        " \n",
        "  return ids,masks,segments\n",
        "\n",
        "from tqdm import tqdm \n",
        "def create_input_array(sentences):\n",
        " \n",
        "  input_ids, input_masks, input_segments = [], [], []\n",
        " \n",
        "  for sentence in tqdm(sentences,position=0, leave=True):\n",
        "  \n",
        "    ids,masks,segments=create_single_input(sentence,MAX_SEQ_LEN-2)\n",
        " \n",
        "    input_ids.append(ids)\n",
        "    input_masks.append(masks)\n",
        "    input_segments.append(segments)\n",
        " \n",
        "  return [np.asarray(input_ids, dtype=np.int32), \n",
        "            np.asarray(input_masks, dtype=np.int32), \n",
        "            np.asarray(input_segments, dtype=np.int32)]"
      ],
      "execution_count": null,
      "outputs": []
    },
    {
      "cell_type": "code",
      "metadata": {
        "id": "gKBYsz0q78Fv",
        "colab_type": "code",
        "colab": {
          "base_uri": "https://localhost:8080/",
          "height": 123
        },
        "outputId": "0c885fb9-d738-40c2-adcc-c7a13dd09f82"
      },
      "source": [
        "# Split dataset to train and test data\n",
        "from sklearn.model_selection import train_test_split\n",
        "#Y = data.sentiment\n",
        "X_t, X_val, Y_t, Y_val = train_test_split(data.review, Y, test_size=0.3, random_state=24)\n",
        "\n",
        "# Prepare inputs\n",
        "x_t = create_input_array(X_t)\n",
        "x_val = create_input_array(X_val)\n",
        "\n",
        "# Label Encoding the target\n",
        "y_t, y_val = prepare_targets(Y_t, Y_val)\n",
        "\n",
        "print(\"X_train shape =\",X_t.shape); print(\"X_test shape =\", X_val.shape)\n",
        "print(\"Y_train shape =\", y_t.shape); print(\"Y_test shape =\", y_val.shape)"
      ],
      "execution_count": null,
      "outputs": [
        {
          "output_type": "stream",
          "text": [
            "100%|██████████| 35000/35000 [02:14<00:00, 259.64it/s]\n",
            "100%|██████████| 15000/15000 [00:57<00:00, 260.54it/s]\n"
          ],
          "name": "stderr"
        },
        {
          "output_type": "stream",
          "text": [
            "X_train shape = (35000,)\n",
            "X_test shape = (15000,)\n",
            "Y_train shape = (35000,)\n",
            "Y_test shape = (15000,)\n"
          ],
          "name": "stdout"
        }
      ]
    },
    {
      "cell_type": "markdown",
      "metadata": {
        "id": "OyjBb0DSDma9",
        "colab_type": "text"
      },
      "source": [
        "##Fine tune BERT_Basic model by just 1 hidden layer"
      ]
    },
    {
      "cell_type": "code",
      "metadata": {
        "id": "Xq0xA5p8Dl0q",
        "colab_type": "code",
        "colab": {
          "base_uri": "https://localhost:8080/",
          "height": 478
        },
        "outputId": "a7babab7-7dcd-4f66-e2a2-bce16acbc796"
      },
      "source": [
        "from tensorflow.keras.layers import GlobalAveragePooling1D, Dense, Dropout\n",
        "from tensorflow.keras.models import Model\n",
        "\n",
        "x = GlobalAveragePooling1D()(sequence_output)\n",
        "x = Dense(60, activation='relu', name='dense_1')(x)\n",
        "x = Dropout(0.1)(x)\n",
        "out = Dense(1, activation='sigmoid', name='output_dense')(x)\n",
        "\n",
        "bert_model = Model(inputs=[input_word_ids, input_mask, segment_ids], outputs=out)\n",
        "\n",
        "bert_model.compile(loss='binary_crossentropy',\n",
        "                   optimizer='adam',\n",
        "                   metrics=['acc'],\n",
        "                   )\n",
        "\n",
        "bert_model.summary()"
      ],
      "execution_count": null,
      "outputs": [
        {
          "output_type": "stream",
          "text": [
            "Model: \"functional_1\"\n",
            "__________________________________________________________________________________________________\n",
            "Layer (type)                    Output Shape         Param #     Connected to                     \n",
            "==================================================================================================\n",
            "input_word_ids (InputLayer)     [(None, 500)]        0                                            \n",
            "__________________________________________________________________________________________________\n",
            "input_mask (InputLayer)         [(None, 500)]        0                                            \n",
            "__________________________________________________________________________________________________\n",
            "segment_ids (InputLayer)        [(None, 500)]        0                                            \n",
            "__________________________________________________________________________________________________\n",
            "keras_layer (KerasLayer)        [(None, 768), (None, 109482241   input_word_ids[0][0]             \n",
            "                                                                 input_mask[0][0]                 \n",
            "                                                                 segment_ids[0][0]                \n",
            "__________________________________________________________________________________________________\n",
            "global_average_pooling1d (Globa (None, 768)          0           keras_layer[0][1]                \n",
            "__________________________________________________________________________________________________\n",
            "dense_1 (Dense)                 (None, 60)           46140       global_average_pooling1d[0][0]   \n",
            "__________________________________________________________________________________________________\n",
            "dropout (Dropout)               (None, 60)           0           dense_1[0][0]                    \n",
            "__________________________________________________________________________________________________\n",
            "output_dense (Dense)            (None, 1)            61          dropout[0][0]                    \n",
            "==================================================================================================\n",
            "Total params: 109,528,442\n",
            "Trainable params: 46,201\n",
            "Non-trainable params: 109,482,241\n",
            "__________________________________________________________________________________________________\n"
          ],
          "name": "stdout"
        }
      ]
    },
    {
      "cell_type": "markdown",
      "metadata": {
        "id": "KcjzDwGiG2R2",
        "colab_type": "text"
      },
      "source": [
        "##Train BERT model"
      ]
    },
    {
      "cell_type": "code",
      "metadata": {
        "id": "5enj5sCeG7iO",
        "colab_type": "code",
        "colab": {
          "base_uri": "https://localhost:8080/",
          "height": 265
        },
        "outputId": "a9993038-992d-45dd-c9e9-d7b71a4cc330"
      },
      "source": [
        "from tensorflow.keras.callbacks import EarlyStopping, ModelCheckpoint\n",
        "#EarlyStopping Setting\n",
        "es = EarlyStopping(monitor='val_loss', mode='min', verbose=1, patience=2)\n",
        "#CheckPoint setting\n",
        "save_ckp = ModelCheckpoint('bert-{epoch:03d}-{loss:0.2f}-{acc:0.2f}.h5',\n",
        "                           verbose=1, monitor='val_loss', mode='min', save_best_only=True)\n",
        "\n",
        "from time import time\n",
        "start = time()\n",
        "h = bert_model.fit(x_t, y_t, batch_size=128, epochs=5,\n",
        "                   validation_data=[x_val, y_val], shuffle=True,\n",
        "                   callbacks=[es, save_ckp],\n",
        "                   )\n",
        "period = time() - start\n",
        "print(\"Training Time = {:.2f} seconds\".format(period))"
      ],
      "execution_count": null,
      "outputs": [
        {
          "output_type": "stream",
          "text": [
            "Epoch 1/5\n",
            "274/274 [==============================] - ETA: 0s - loss: 0.3978 - acc: 0.8258\n",
            "Epoch 00001: val_loss improved from inf to 0.00000, saving model to bert-001-0.40-0.83.h5\n",
            "274/274 [==============================] - 1595s 6s/step - loss: 0.3978 - acc: 0.8258 - val_loss: 0.0000e+00 - val_acc: 0.0000e+00\n",
            "Epoch 2/5\n",
            "274/274 [==============================] - ETA: 0s - loss: 0.3255 - acc: 0.8607\n",
            "Epoch 00002: val_loss did not improve from 0.00000\n",
            "274/274 [==============================] - 1595s 6s/step - loss: 0.3255 - acc: 0.8607 - val_loss: 0.0000e+00 - val_acc: 0.0000e+00\n",
            "Epoch 3/5\n",
            "274/274 [==============================] - ETA: 0s - loss: 0.3154 - acc: 0.8666\n",
            "Epoch 00003: val_loss did not improve from 0.00000\n",
            "274/274 [==============================] - 1591s 6s/step - loss: 0.3154 - acc: 0.8666 - val_loss: 0.0000e+00 - val_acc: 0.0000e+00\n",
            "Epoch 00003: early stopping\n",
            "Training Time = 4805.53 seconds\n"
          ],
          "name": "stdout"
        }
      ]
    },
    {
      "cell_type": "code",
      "metadata": {
        "id": "c2R-VKiaI5fm",
        "colab_type": "code",
        "colab": {}
      },
      "source": [
        "#Copy saved model to drive\n",
        "!cp '/content/bert-001-0.34-0.85.h5' '/content/drive/My Drive/bert_model.h5'"
      ],
      "execution_count": null,
      "outputs": []
    },
    {
      "cell_type": "code",
      "metadata": {
        "id": "jUW62S9nOHbT",
        "colab_type": "code",
        "colab": {}
      },
      "source": [
        "# Stor bert tokenizer\n",
        "with open(\"bert_tokenizer.pickle\", 'wb') as f:\n",
        "  pickle.dump(bert_tokenizer, f, protocol=pickle.HIGHEST_PROTOCOL)"
      ],
      "execution_count": null,
      "outputs": []
    },
    {
      "cell_type": "code",
      "metadata": {
        "id": "EPKGfUE9OHY2",
        "colab_type": "code",
        "colab": {
          "base_uri": "https://localhost:8080/",
          "height": 52
        },
        "outputId": "3842dc94-4513-4abf-a164-a8284545efb5"
      },
      "source": [
        "string11='''Between the Lovecraftian overtones and Liberato’s performance, \n",
        "The Beach House offers up beautifully shot terror and will make you think before opening your door.'''\n",
        "x_1 = create_input_array([string11])\n",
        "pred = bert_model.predict(x_1)\n",
        "pred"
      ],
      "execution_count": null,
      "outputs": [
        {
          "output_type": "stream",
          "text": [
            "100%|██████████| 1/1 [00:00<00:00, 443.70it/s]\n"
          ],
          "name": "stderr"
        },
        {
          "output_type": "execute_result",
          "data": {
            "text/plain": [
              "array([[0.96545935]], dtype=float32)"
            ]
          },
          "metadata": {
            "tags": []
          },
          "execution_count": 16
        }
      ]
    },
    {
      "cell_type": "code",
      "metadata": {
        "id": "RlNtmPneRlxe",
        "colab_type": "code",
        "colab": {
          "base_uri": "https://localhost:8080/",
          "height": 52
        },
        "outputId": "8cdb7c89-bcdb-4430-ff19-126174c97bde"
      },
      "source": [
        "#Evaluate classification problem\n",
        "from tqdm import tqdm\n",
        "from sklearn.metrics import precision_score, recall_score, f1_score\n",
        "PRED = tqdm(bert_model.predict(x_val), position=0, )\n",
        "Y_hat = [j>0.6 for j in tqdm(PRED, position=0, leave=True)]\n",
        "\n",
        "_precision = precision_score(y_val, Y_hat)\n",
        "_recall = recall_score(y_val, Y_hat)\n",
        "_f1 = f1_score(y_val, Y_hat)\n",
        "\n"
      ],
      "execution_count": null,
      "outputs": [
        {
          "output_type": "stream",
          "text": [
            "100%|██████████| 15000/15000 [00:00<00:00, 491642.91it/s]\n",
            "100%|██████████| 15000/15000 [00:00<00:00, 531781.69it/s]\n"
          ],
          "name": "stderr"
        }
      ]
    },
    {
      "cell_type": "code",
      "metadata": {
        "id": "BvFTiKNaRlvO",
        "colab_type": "code",
        "colab": {
          "base_uri": "https://localhost:8080/",
          "height": 70
        },
        "outputId": "2b2402d0-6593-40a3-841c-b35fe8bfa801"
      },
      "source": [
        "print(\"Precision Score={:.2f}\\nRecallScore={:.2f}\\nf1 score={:.2f}\".format(_precision, _recall, _f1))"
      ],
      "execution_count": null,
      "outputs": [
        {
          "output_type": "stream",
          "text": [
            "Precision Score=0.91\n",
            "RecallScore=0.79\n",
            "f1 score=0.85\n"
          ],
          "name": "stdout"
        }
      ]
    },
    {
      "cell_type": "markdown",
      "metadata": {
        "id": "nNoVstcdjwJF",
        "colab_type": "text"
      },
      "source": [
        "##BERT_Basic fine tuning without hidden layer"
      ]
    },
    {
      "cell_type": "code",
      "metadata": {
        "id": "0vKVsA451oEx",
        "colab_type": "code",
        "colab": {
          "base_uri": "https://localhost:8080/",
          "height": 407
        },
        "outputId": "038cb6af-e96a-4a81-fef1-5e57fe149c91"
      },
      "source": [
        "from tensorflow.keras.layers import GlobalAveragePooling1D, Dense, Dropout\n",
        "from tensorflow.keras.models import Model\n",
        "\n",
        "x = GlobalAveragePooling1D()(sequence_output)\n",
        "#x = Dense(60, activation='relu', name='dense_1')(x)\n",
        "#x = Dropout(0.1)(x)\n",
        "out = Dense(1, activation='sigmoid', name='output_dense')(x)\n",
        "\n",
        "new_bert_model = Model(inputs=[input_word_ids, input_mask, segment_ids], outputs=out)\n",
        "\n",
        "new_bert_model.compile(loss='binary_crossentropy',\n",
        "                   optimizer='adam',\n",
        "                   metrics=['acc'],\n",
        "                   )\n",
        "\n",
        "new_bert_model.summary()"
      ],
      "execution_count": null,
      "outputs": [
        {
          "output_type": "stream",
          "text": [
            "Model: \"functional_1\"\n",
            "__________________________________________________________________________________________________\n",
            "Layer (type)                    Output Shape         Param #     Connected to                     \n",
            "==================================================================================================\n",
            "input_word_ids (InputLayer)     [(None, 500)]        0                                            \n",
            "__________________________________________________________________________________________________\n",
            "input_mask (InputLayer)         [(None, 500)]        0                                            \n",
            "__________________________________________________________________________________________________\n",
            "segment_ids (InputLayer)        [(None, 500)]        0                                            \n",
            "__________________________________________________________________________________________________\n",
            "keras_layer (KerasLayer)        [(None, 768), (None, 109482241   input_word_ids[0][0]             \n",
            "                                                                 input_mask[0][0]                 \n",
            "                                                                 segment_ids[0][0]                \n",
            "__________________________________________________________________________________________________\n",
            "global_average_pooling1d_1 (Glo (None, 768)          0           keras_layer[0][1]                \n",
            "__________________________________________________________________________________________________\n",
            "output_dense (Dense)            (None, 1)            769         global_average_pooling1d_1[0][0] \n",
            "==================================================================================================\n",
            "Total params: 109,483,010\n",
            "Trainable params: 769\n",
            "Non-trainable params: 109,482,241\n",
            "__________________________________________________________________________________________________\n"
          ],
          "name": "stdout"
        }
      ]
    },
    {
      "cell_type": "code",
      "metadata": {
        "id": "mCOS9i-V2eGb",
        "colab_type": "code",
        "colab": {
          "base_uri": "https://localhost:8080/",
          "height": 87
        },
        "outputId": "f3b6e7db-d3cd-4946-d27f-6ec7ce44963f"
      },
      "source": [
        "from tensorflow.keras.callbacks import EarlyStopping, ModelCheckpoint\n",
        "#EarlyStopping Setting\n",
        "es = EarlyStopping(monitor='val_loss', mode='min', verbose=1, patience=2)\n",
        "#CheckPoint setting\n",
        "save_ckp = ModelCheckpoint('bert-{epoch:03d}-{loss:0.2f}-{acc:0.2f}.h5',\n",
        "                           verbose=0, monitor='val_loss', mode='min', save_best_only=True)\n",
        "\n",
        "from time import time\n",
        "start = time()\n",
        "h = new_bert_model.fit(x_t, y_t, batch_size=32, epochs=1, verbose=1,\n",
        "                   validation_data=[x_val, y_val], shuffle=True,\n",
        "                   callbacks=[es, save_ckp],\n",
        "                   )\n",
        "period = time() - start\n",
        "print(\"Training Time = {:.2f} seconds\".format(period))"
      ],
      "execution_count": null,
      "outputs": [
        {
          "output_type": "stream",
          "text": [
            "\n",
            "Epoch 00001: val_loss improved from inf to 0.00000, saving model to bert-001-0.45-0.82.h5\n",
            "1094/1094 - 1538s - loss: 0.4485 - acc: 0.8187 - val_loss: 0.0000e+00 - val_acc: 0.0000e+00\n",
            "Training Time = 1539.60 seconds\n"
          ],
          "name": "stdout"
        }
      ]
    },
    {
      "cell_type": "code",
      "metadata": {
        "id": "1-xbt0jrIliJ",
        "colab_type": "code",
        "colab": {
          "base_uri": "https://localhost:8080/",
          "height": 105
        },
        "outputId": "2aa94804-be96-44a4-ee30-898496bd381a"
      },
      "source": [
        "#Evaluate classification problem\n",
        "from tqdm import tqdm\n",
        "from sklearn.metrics import precision_score, recall_score, f1_score\n",
        "PRED = tqdm(new_bert_model.predict(x_val))\n",
        "Y_hat = [j>0.6 for j in tqdm(PRED, position=0, leave=True)]\n",
        "\n",
        "_precision = precision_score(y_val, Y_hat)\n",
        "_recall = recall_score(y_val, Y_hat)\n",
        "_f1 = f1_score(y_val, Y_hat)\n",
        "\n",
        "print(\"\\nPrecision Score={:.2f}\\nRecallScore={:.2f}\\nf1 score={:.2f}\".format(_precision, _recall, _f1))"
      ],
      "execution_count": null,
      "outputs": [
        {
          "output_type": "stream",
          "text": [
            "100%|██████████| 15000/15000 [00:00<00:00, 450283.85it/s]\n",
            "100%|██████████| 15000/15000 [00:00<00:00, 429949.84it/s]"
          ],
          "name": "stderr"
        },
        {
          "output_type": "stream",
          "text": [
            "Precision Score=0.92\n",
            "RecallScore=0.72\n",
            "f1 score=0.81\n"
          ],
          "name": "stdout"
        },
        {
          "output_type": "stream",
          "text": [
            "\n"
          ],
          "name": "stderr"
        }
      ]
    },
    {
      "cell_type": "markdown",
      "metadata": {
        "id": "1fdN_blfkRzv",
        "colab_type": "text"
      },
      "source": [
        "##BERT_Large fine tuning without hidden layer"
      ]
    },
    {
      "cell_type": "code",
      "metadata": {
        "id": "HKe0rtZ8U2me",
        "colab_type": "code",
        "colab": {
          "base_uri": "https://localhost:8080/",
          "height": 407
        },
        "outputId": "62e0b448-6605-4017-d2fb-2ea4770b5aea"
      },
      "source": [
        "from tensorflow.keras.layers import GlobalAveragePooling1D, Dense, Dropout\n",
        "from tensorflow.keras.models import Model\n",
        "\n",
        "x = GlobalAveragePooling1D()(sequence_output)\n",
        "#x = Dense(60, activation='relu', name='dense_1')(x)\n",
        "#x = Dropout(0.1)(x)\n",
        "out = Dense(1, activation='sigmoid', name='output_dense')(x)\n",
        "\n",
        "large_bert_model = Model(inputs=[input_word_ids, input_mask, segment_ids], outputs=out)\n",
        "\n",
        "large_bert_model.compile(loss='binary_crossentropy',\n",
        "                   optimizer='adam',\n",
        "                   metrics=['acc'],\n",
        "                   )\n",
        "\n",
        "large_bert_model.summary()"
      ],
      "execution_count": null,
      "outputs": [
        {
          "output_type": "stream",
          "text": [
            "Model: \"functional_1\"\n",
            "__________________________________________________________________________________________________\n",
            "Layer (type)                    Output Shape         Param #     Connected to                     \n",
            "==================================================================================================\n",
            "input_word_ids (InputLayer)     [(None, 500)]        0                                            \n",
            "__________________________________________________________________________________________________\n",
            "input_mask (InputLayer)         [(None, 500)]        0                                            \n",
            "__________________________________________________________________________________________________\n",
            "segment_ids (InputLayer)        [(None, 500)]        0                                            \n",
            "__________________________________________________________________________________________________\n",
            "keras_layer (KerasLayer)        [(None, 1024), (None 335141889   input_word_ids[0][0]             \n",
            "                                                                 input_mask[0][0]                 \n",
            "                                                                 segment_ids[0][0]                \n",
            "__________________________________________________________________________________________________\n",
            "global_average_pooling1d (Globa (None, 1024)         0           keras_layer[0][1]                \n",
            "__________________________________________________________________________________________________\n",
            "output_dense (Dense)            (None, 1)            1025        global_average_pooling1d[0][0]   \n",
            "==================================================================================================\n",
            "Total params: 335,142,914\n",
            "Trainable params: 1,025\n",
            "Non-trainable params: 335,141,889\n",
            "__________________________________________________________________________________________________\n"
          ],
          "name": "stdout"
        }
      ]
    },
    {
      "cell_type": "code",
      "metadata": {
        "id": "MALqVfhnltcI",
        "colab_type": "code",
        "colab": {
          "base_uri": "https://localhost:8080/",
          "height": 34
        },
        "outputId": "6d899777-8a04-4bdf-c2d8-ebc14afa3aef"
      },
      "source": [
        "print(x_t[0].shape)"
      ],
      "execution_count": null,
      "outputs": [
        {
          "output_type": "stream",
          "text": [
            "(35000, 500)\n"
          ],
          "name": "stdout"
        }
      ]
    },
    {
      "cell_type": "code",
      "metadata": {
        "id": "ZXmRq7gTU2dE",
        "colab_type": "code",
        "colab": {
          "base_uri": "https://localhost:8080/",
          "height": 425
        },
        "outputId": "61abb6f3-fc43-4562-b57c-2f1c4588a86a"
      },
      "source": [
        "'''from time import time\n",
        "start = time()\n",
        "\n",
        "h = large_bert_model.fit(x_t, y_t, batch_size=16, epochs=1, verbose=1,\n",
        "                   #validation_data=[x_val, y_val],\n",
        "                   #validation_split=0.2,\n",
        "                   #callbacks=[es, save_ckp],\n",
        "                   )\n",
        "period = time() - start\n",
        "print(\"Training Time = {:.2f} seconds\".format(period))\n",
        "'''\n",
        "large_bert_model, hist = trainModel(large_bert_model, x_t, y_t, 'bert-large.h5', validation_split=0.2, batch_size=32, iteration=1)"
      ],
      "execution_count": null,
      "outputs": [
        {
          "output_type": "stream",
          "text": [
            "   2/3500 [..............................] - ETA: 53:00 - loss: 0.7002 - acc: 0.5625WARNING:tensorflow:Callbacks method `on_train_batch_end` is slow compared to the batch time (batch time: 0.4462s vs `on_train_batch_end` time: 1.3724s). Check your callbacks.\n"
          ],
          "name": "stdout"
        },
        {
          "output_type": "stream",
          "text": [
            "WARNING:tensorflow:Callbacks method `on_train_batch_end` is slow compared to the batch time (batch time: 0.4462s vs `on_train_batch_end` time: 1.3724s). Check your callbacks.\n"
          ],
          "name": "stderr"
        },
        {
          "output_type": "stream",
          "text": [
            "2075/3500 [================>.............] - ETA: 44:18 - loss: 0.3743 - acc: 0.8528"
          ],
          "name": "stdout"
        },
        {
          "output_type": "error",
          "ename": "KeyboardInterrupt",
          "evalue": "ignored",
          "traceback": [
            "\u001b[0;31m---------------------------------------------------------------------------\u001b[0m",
            "\u001b[0;31mKeyboardInterrupt\u001b[0m                         Traceback (most recent call last)",
            "\u001b[0;32m<ipython-input-19-9cb17bf802bc>\u001b[0m in \u001b[0;36m<module>\u001b[0;34m()\u001b[0m\n\u001b[1;32m     10\u001b[0m \u001b[0mprint\u001b[0m\u001b[0;34m(\u001b[0m\u001b[0;34m\"Training Time = {:.2f} seconds\"\u001b[0m\u001b[0;34m.\u001b[0m\u001b[0mformat\u001b[0m\u001b[0;34m(\u001b[0m\u001b[0mperiod\u001b[0m\u001b[0;34m)\u001b[0m\u001b[0;34m)\u001b[0m\u001b[0;34m\u001b[0m\u001b[0;34m\u001b[0m\u001b[0m\n\u001b[1;32m     11\u001b[0m '''\n\u001b[0;32m---> 12\u001b[0;31m \u001b[0mlarge_bert_model\u001b[0m\u001b[0;34m,\u001b[0m \u001b[0mhist\u001b[0m \u001b[0;34m=\u001b[0m \u001b[0mtrainModel\u001b[0m\u001b[0;34m(\u001b[0m\u001b[0mlarge_bert_model\u001b[0m\u001b[0;34m,\u001b[0m \u001b[0mx_t\u001b[0m\u001b[0;34m,\u001b[0m \u001b[0my_t\u001b[0m\u001b[0;34m,\u001b[0m \u001b[0;34m'bert-large.h5'\u001b[0m\u001b[0;34m,\u001b[0m \u001b[0mvalidation_split\u001b[0m\u001b[0;34m=\u001b[0m\u001b[0;36m0.2\u001b[0m\u001b[0;34m,\u001b[0m \u001b[0mbatch_size\u001b[0m\u001b[0;34m=\u001b[0m\u001b[0;36m8\u001b[0m\u001b[0;34m,\u001b[0m \u001b[0miteration\u001b[0m\u001b[0;34m=\u001b[0m\u001b[0;36m1\u001b[0m\u001b[0;34m)\u001b[0m\u001b[0;34m\u001b[0m\u001b[0;34m\u001b[0m\u001b[0m\n\u001b[0m",
            "\u001b[0;32m<ipython-input-9-4b7d1be085d3>\u001b[0m in \u001b[0;36mtrainModel\u001b[0;34m(model, x, y, modelName, esMonitor, esMode, patience, ckpMonitor, ckpMode, saveBestOnly, validation_data, validation_split, batch_size, iteration, verbose)\u001b[0m\n\u001b[1;32m     40\u001b[0m                     \u001b[0mvalidation_split\u001b[0m\u001b[0;34m=\u001b[0m\u001b[0mvalidation_split\u001b[0m\u001b[0;34m,\u001b[0m\u001b[0;34m\u001b[0m\u001b[0;34m\u001b[0m\u001b[0m\n\u001b[1;32m     41\u001b[0m                     \u001b[0mcallbacks\u001b[0m\u001b[0;34m=\u001b[0m\u001b[0;34m[\u001b[0m\u001b[0mes\u001b[0m\u001b[0;34m,\u001b[0m \u001b[0msave\u001b[0m\u001b[0;34m]\u001b[0m\u001b[0;34m,\u001b[0m\u001b[0;34m\u001b[0m\u001b[0;34m\u001b[0m\u001b[0m\n\u001b[0;32m---> 42\u001b[0;31m                     \u001b[0mverbose\u001b[0m\u001b[0;34m=\u001b[0m\u001b[0mverbose\u001b[0m\u001b[0;34m\u001b[0m\u001b[0;34m\u001b[0m\u001b[0m\n\u001b[0m\u001b[1;32m     43\u001b[0m                     )\n\u001b[1;32m     44\u001b[0m   \u001b[0mtraining_period\u001b[0m \u001b[0;34m=\u001b[0m \u001b[0mtime\u001b[0m\u001b[0;34m(\u001b[0m\u001b[0;34m)\u001b[0m \u001b[0;34m-\u001b[0m \u001b[0mstart\u001b[0m\u001b[0;34m\u001b[0m\u001b[0;34m\u001b[0m\u001b[0m\n",
            "\u001b[0;32m/usr/local/lib/python3.6/dist-packages/tensorflow/python/keras/engine/training.py\u001b[0m in \u001b[0;36m_method_wrapper\u001b[0;34m(self, *args, **kwargs)\u001b[0m\n\u001b[1;32m    106\u001b[0m   \u001b[0;32mdef\u001b[0m \u001b[0m_method_wrapper\u001b[0m\u001b[0;34m(\u001b[0m\u001b[0mself\u001b[0m\u001b[0;34m,\u001b[0m \u001b[0;34m*\u001b[0m\u001b[0margs\u001b[0m\u001b[0;34m,\u001b[0m \u001b[0;34m**\u001b[0m\u001b[0mkwargs\u001b[0m\u001b[0;34m)\u001b[0m\u001b[0;34m:\u001b[0m\u001b[0;34m\u001b[0m\u001b[0;34m\u001b[0m\u001b[0m\n\u001b[1;32m    107\u001b[0m     \u001b[0;32mif\u001b[0m \u001b[0;32mnot\u001b[0m \u001b[0mself\u001b[0m\u001b[0;34m.\u001b[0m\u001b[0m_in_multi_worker_mode\u001b[0m\u001b[0;34m(\u001b[0m\u001b[0;34m)\u001b[0m\u001b[0;34m:\u001b[0m  \u001b[0;31m# pylint: disable=protected-access\u001b[0m\u001b[0;34m\u001b[0m\u001b[0;34m\u001b[0m\u001b[0m\n\u001b[0;32m--> 108\u001b[0;31m       \u001b[0;32mreturn\u001b[0m \u001b[0mmethod\u001b[0m\u001b[0;34m(\u001b[0m\u001b[0mself\u001b[0m\u001b[0;34m,\u001b[0m \u001b[0;34m*\u001b[0m\u001b[0margs\u001b[0m\u001b[0;34m,\u001b[0m \u001b[0;34m**\u001b[0m\u001b[0mkwargs\u001b[0m\u001b[0;34m)\u001b[0m\u001b[0;34m\u001b[0m\u001b[0;34m\u001b[0m\u001b[0m\n\u001b[0m\u001b[1;32m    109\u001b[0m \u001b[0;34m\u001b[0m\u001b[0m\n\u001b[1;32m    110\u001b[0m     \u001b[0;31m# Running inside `run_distribute_coordinator` already.\u001b[0m\u001b[0;34m\u001b[0m\u001b[0;34m\u001b[0m\u001b[0;34m\u001b[0m\u001b[0m\n",
            "\u001b[0;32m/usr/local/lib/python3.6/dist-packages/tensorflow/python/keras/engine/training.py\u001b[0m in \u001b[0;36mfit\u001b[0;34m(self, x, y, batch_size, epochs, verbose, callbacks, validation_split, validation_data, shuffle, class_weight, sample_weight, initial_epoch, steps_per_epoch, validation_steps, validation_batch_size, validation_freq, max_queue_size, workers, use_multiprocessing)\u001b[0m\n\u001b[1;32m   1101\u001b[0m               \u001b[0mlogs\u001b[0m \u001b[0;34m=\u001b[0m \u001b[0mtmp_logs\u001b[0m  \u001b[0;31m# No error, now safe to assign to logs.\u001b[0m\u001b[0;34m\u001b[0m\u001b[0;34m\u001b[0m\u001b[0m\n\u001b[1;32m   1102\u001b[0m               \u001b[0mend_step\u001b[0m \u001b[0;34m=\u001b[0m \u001b[0mstep\u001b[0m \u001b[0;34m+\u001b[0m \u001b[0mdata_handler\u001b[0m\u001b[0;34m.\u001b[0m\u001b[0mstep_increment\u001b[0m\u001b[0;34m\u001b[0m\u001b[0;34m\u001b[0m\u001b[0m\n\u001b[0;32m-> 1103\u001b[0;31m               \u001b[0mcallbacks\u001b[0m\u001b[0;34m.\u001b[0m\u001b[0mon_train_batch_end\u001b[0m\u001b[0;34m(\u001b[0m\u001b[0mend_step\u001b[0m\u001b[0;34m,\u001b[0m \u001b[0mlogs\u001b[0m\u001b[0;34m)\u001b[0m\u001b[0;34m\u001b[0m\u001b[0;34m\u001b[0m\u001b[0m\n\u001b[0m\u001b[1;32m   1104\u001b[0m         \u001b[0mepoch_logs\u001b[0m \u001b[0;34m=\u001b[0m \u001b[0mcopy\u001b[0m\u001b[0;34m.\u001b[0m\u001b[0mcopy\u001b[0m\u001b[0;34m(\u001b[0m\u001b[0mlogs\u001b[0m\u001b[0;34m)\u001b[0m\u001b[0;34m\u001b[0m\u001b[0;34m\u001b[0m\u001b[0m\n\u001b[1;32m   1105\u001b[0m \u001b[0;34m\u001b[0m\u001b[0m\n",
            "\u001b[0;32m/usr/local/lib/python3.6/dist-packages/tensorflow/python/keras/callbacks.py\u001b[0m in \u001b[0;36mon_train_batch_end\u001b[0;34m(self, batch, logs)\u001b[0m\n\u001b[1;32m    438\u001b[0m     \"\"\"\n\u001b[1;32m    439\u001b[0m     \u001b[0;32mif\u001b[0m \u001b[0mself\u001b[0m\u001b[0;34m.\u001b[0m\u001b[0m_should_call_train_batch_hooks\u001b[0m\u001b[0;34m:\u001b[0m\u001b[0;34m\u001b[0m\u001b[0;34m\u001b[0m\u001b[0m\n\u001b[0;32m--> 440\u001b[0;31m       \u001b[0mself\u001b[0m\u001b[0;34m.\u001b[0m\u001b[0m_call_batch_hook\u001b[0m\u001b[0;34m(\u001b[0m\u001b[0mModeKeys\u001b[0m\u001b[0;34m.\u001b[0m\u001b[0mTRAIN\u001b[0m\u001b[0;34m,\u001b[0m \u001b[0;34m'end'\u001b[0m\u001b[0;34m,\u001b[0m \u001b[0mbatch\u001b[0m\u001b[0;34m,\u001b[0m \u001b[0mlogs\u001b[0m\u001b[0;34m=\u001b[0m\u001b[0mlogs\u001b[0m\u001b[0;34m)\u001b[0m\u001b[0;34m\u001b[0m\u001b[0;34m\u001b[0m\u001b[0m\n\u001b[0m\u001b[1;32m    441\u001b[0m \u001b[0;34m\u001b[0m\u001b[0m\n\u001b[1;32m    442\u001b[0m   \u001b[0;32mdef\u001b[0m \u001b[0mon_test_batch_begin\u001b[0m\u001b[0;34m(\u001b[0m\u001b[0mself\u001b[0m\u001b[0;34m,\u001b[0m \u001b[0mbatch\u001b[0m\u001b[0;34m,\u001b[0m \u001b[0mlogs\u001b[0m\u001b[0;34m=\u001b[0m\u001b[0;32mNone\u001b[0m\u001b[0;34m)\u001b[0m\u001b[0;34m:\u001b[0m\u001b[0;34m\u001b[0m\u001b[0;34m\u001b[0m\u001b[0m\n",
            "\u001b[0;32m/usr/local/lib/python3.6/dist-packages/tensorflow/python/keras/callbacks.py\u001b[0m in \u001b[0;36m_call_batch_hook\u001b[0;34m(self, mode, hook, batch, logs)\u001b[0m\n\u001b[1;32m    287\u001b[0m       \u001b[0mself\u001b[0m\u001b[0;34m.\u001b[0m\u001b[0m_call_batch_begin_hook\u001b[0m\u001b[0;34m(\u001b[0m\u001b[0mmode\u001b[0m\u001b[0;34m,\u001b[0m \u001b[0mbatch\u001b[0m\u001b[0;34m,\u001b[0m \u001b[0mlogs\u001b[0m\u001b[0;34m)\u001b[0m\u001b[0;34m\u001b[0m\u001b[0;34m\u001b[0m\u001b[0m\n\u001b[1;32m    288\u001b[0m     \u001b[0;32melif\u001b[0m \u001b[0mhook\u001b[0m \u001b[0;34m==\u001b[0m \u001b[0;34m'end'\u001b[0m\u001b[0;34m:\u001b[0m\u001b[0;34m\u001b[0m\u001b[0;34m\u001b[0m\u001b[0m\n\u001b[0;32m--> 289\u001b[0;31m       \u001b[0mself\u001b[0m\u001b[0;34m.\u001b[0m\u001b[0m_call_batch_end_hook\u001b[0m\u001b[0;34m(\u001b[0m\u001b[0mmode\u001b[0m\u001b[0;34m,\u001b[0m \u001b[0mbatch\u001b[0m\u001b[0;34m,\u001b[0m \u001b[0mlogs\u001b[0m\u001b[0;34m)\u001b[0m\u001b[0;34m\u001b[0m\u001b[0;34m\u001b[0m\u001b[0m\n\u001b[0m\u001b[1;32m    290\u001b[0m     \u001b[0;32melse\u001b[0m\u001b[0;34m:\u001b[0m\u001b[0;34m\u001b[0m\u001b[0;34m\u001b[0m\u001b[0m\n\u001b[1;32m    291\u001b[0m       \u001b[0;32mraise\u001b[0m \u001b[0mValueError\u001b[0m\u001b[0;34m(\u001b[0m\u001b[0;34m'Unrecognized hook: {}'\u001b[0m\u001b[0;34m.\u001b[0m\u001b[0mformat\u001b[0m\u001b[0;34m(\u001b[0m\u001b[0mhook\u001b[0m\u001b[0;34m)\u001b[0m\u001b[0;34m)\u001b[0m\u001b[0;34m\u001b[0m\u001b[0;34m\u001b[0m\u001b[0m\n",
            "\u001b[0;32m/usr/local/lib/python3.6/dist-packages/tensorflow/python/keras/callbacks.py\u001b[0m in \u001b[0;36m_call_batch_end_hook\u001b[0;34m(self, mode, batch, logs)\u001b[0m\n\u001b[1;32m    307\u001b[0m       \u001b[0mbatch_time\u001b[0m \u001b[0;34m=\u001b[0m \u001b[0mtime\u001b[0m\u001b[0;34m.\u001b[0m\u001b[0mtime\u001b[0m\u001b[0;34m(\u001b[0m\u001b[0;34m)\u001b[0m \u001b[0;34m-\u001b[0m \u001b[0mself\u001b[0m\u001b[0;34m.\u001b[0m\u001b[0m_batch_start_time\u001b[0m\u001b[0;34m\u001b[0m\u001b[0;34m\u001b[0m\u001b[0m\n\u001b[1;32m    308\u001b[0m \u001b[0;34m\u001b[0m\u001b[0m\n\u001b[0;32m--> 309\u001b[0;31m     \u001b[0mself\u001b[0m\u001b[0;34m.\u001b[0m\u001b[0m_call_batch_hook_helper\u001b[0m\u001b[0;34m(\u001b[0m\u001b[0mhook_name\u001b[0m\u001b[0;34m,\u001b[0m \u001b[0mbatch\u001b[0m\u001b[0;34m,\u001b[0m \u001b[0mlogs\u001b[0m\u001b[0;34m)\u001b[0m\u001b[0;34m\u001b[0m\u001b[0;34m\u001b[0m\u001b[0m\n\u001b[0m\u001b[1;32m    310\u001b[0m \u001b[0;34m\u001b[0m\u001b[0m\n\u001b[1;32m    311\u001b[0m     \u001b[0;32mif\u001b[0m \u001b[0mself\u001b[0m\u001b[0;34m.\u001b[0m\u001b[0m_check_timing\u001b[0m\u001b[0;34m:\u001b[0m\u001b[0;34m\u001b[0m\u001b[0;34m\u001b[0m\u001b[0m\n",
            "\u001b[0;32m/usr/local/lib/python3.6/dist-packages/tensorflow/python/keras/callbacks.py\u001b[0m in \u001b[0;36m_call_batch_hook_helper\u001b[0;34m(self, hook_name, batch, logs)\u001b[0m\n\u001b[1;32m    343\u001b[0m       \u001b[0;32melse\u001b[0m\u001b[0;34m:\u001b[0m\u001b[0;34m\u001b[0m\u001b[0;34m\u001b[0m\u001b[0m\n\u001b[1;32m    344\u001b[0m         \u001b[0;32mif\u001b[0m \u001b[0mnumpy_logs\u001b[0m \u001b[0;32mis\u001b[0m \u001b[0;32mNone\u001b[0m\u001b[0;34m:\u001b[0m  \u001b[0;31m# Only convert once.\u001b[0m\u001b[0;34m\u001b[0m\u001b[0;34m\u001b[0m\u001b[0m\n\u001b[0;32m--> 345\u001b[0;31m           \u001b[0mnumpy_logs\u001b[0m \u001b[0;34m=\u001b[0m \u001b[0mtf_utils\u001b[0m\u001b[0;34m.\u001b[0m\u001b[0mto_numpy_or_python_type\u001b[0m\u001b[0;34m(\u001b[0m\u001b[0mlogs\u001b[0m\u001b[0;34m)\u001b[0m\u001b[0;34m\u001b[0m\u001b[0;34m\u001b[0m\u001b[0m\n\u001b[0m\u001b[1;32m    346\u001b[0m         \u001b[0mhook\u001b[0m\u001b[0;34m(\u001b[0m\u001b[0mbatch\u001b[0m\u001b[0;34m,\u001b[0m \u001b[0mnumpy_logs\u001b[0m\u001b[0;34m)\u001b[0m\u001b[0;34m\u001b[0m\u001b[0;34m\u001b[0m\u001b[0m\n\u001b[1;32m    347\u001b[0m \u001b[0;34m\u001b[0m\u001b[0m\n",
            "\u001b[0;32m/usr/local/lib/python3.6/dist-packages/tensorflow/python/keras/utils/tf_utils.py\u001b[0m in \u001b[0;36mto_numpy_or_python_type\u001b[0;34m(tensors)\u001b[0m\n\u001b[1;32m    535\u001b[0m     \u001b[0;32mreturn\u001b[0m \u001b[0mt\u001b[0m  \u001b[0;31m# Don't turn ragged or sparse tensors to NumPy.\u001b[0m\u001b[0;34m\u001b[0m\u001b[0;34m\u001b[0m\u001b[0m\n\u001b[1;32m    536\u001b[0m \u001b[0;34m\u001b[0m\u001b[0m\n\u001b[0;32m--> 537\u001b[0;31m   \u001b[0;32mreturn\u001b[0m \u001b[0mnest\u001b[0m\u001b[0;34m.\u001b[0m\u001b[0mmap_structure\u001b[0m\u001b[0;34m(\u001b[0m\u001b[0m_to_single_numpy_or_python_type\u001b[0m\u001b[0;34m,\u001b[0m \u001b[0mtensors\u001b[0m\u001b[0;34m)\u001b[0m\u001b[0;34m\u001b[0m\u001b[0;34m\u001b[0m\u001b[0m\n\u001b[0m\u001b[1;32m    538\u001b[0m \u001b[0;34m\u001b[0m\u001b[0m\n\u001b[1;32m    539\u001b[0m \u001b[0;34m\u001b[0m\u001b[0m\n",
            "\u001b[0;32m/usr/local/lib/python3.6/dist-packages/tensorflow/python/util/nest.py\u001b[0m in \u001b[0;36mmap_structure\u001b[0;34m(func, *structure, **kwargs)\u001b[0m\n\u001b[1;32m    633\u001b[0m \u001b[0;34m\u001b[0m\u001b[0m\n\u001b[1;32m    634\u001b[0m   return pack_sequence_as(\n\u001b[0;32m--> 635\u001b[0;31m       \u001b[0mstructure\u001b[0m\u001b[0;34m[\u001b[0m\u001b[0;36m0\u001b[0m\u001b[0;34m]\u001b[0m\u001b[0;34m,\u001b[0m \u001b[0;34m[\u001b[0m\u001b[0mfunc\u001b[0m\u001b[0;34m(\u001b[0m\u001b[0;34m*\u001b[0m\u001b[0mx\u001b[0m\u001b[0;34m)\u001b[0m \u001b[0;32mfor\u001b[0m \u001b[0mx\u001b[0m \u001b[0;32min\u001b[0m \u001b[0mentries\u001b[0m\u001b[0;34m]\u001b[0m\u001b[0;34m,\u001b[0m\u001b[0;34m\u001b[0m\u001b[0;34m\u001b[0m\u001b[0m\n\u001b[0m\u001b[1;32m    636\u001b[0m       expand_composites=expand_composites)\n\u001b[1;32m    637\u001b[0m \u001b[0;34m\u001b[0m\u001b[0m\n",
            "\u001b[0;32m/usr/local/lib/python3.6/dist-packages/tensorflow/python/util/nest.py\u001b[0m in \u001b[0;36m<listcomp>\u001b[0;34m(.0)\u001b[0m\n\u001b[1;32m    633\u001b[0m \u001b[0;34m\u001b[0m\u001b[0m\n\u001b[1;32m    634\u001b[0m   return pack_sequence_as(\n\u001b[0;32m--> 635\u001b[0;31m       \u001b[0mstructure\u001b[0m\u001b[0;34m[\u001b[0m\u001b[0;36m0\u001b[0m\u001b[0;34m]\u001b[0m\u001b[0;34m,\u001b[0m \u001b[0;34m[\u001b[0m\u001b[0mfunc\u001b[0m\u001b[0;34m(\u001b[0m\u001b[0;34m*\u001b[0m\u001b[0mx\u001b[0m\u001b[0;34m)\u001b[0m \u001b[0;32mfor\u001b[0m \u001b[0mx\u001b[0m \u001b[0;32min\u001b[0m \u001b[0mentries\u001b[0m\u001b[0;34m]\u001b[0m\u001b[0;34m,\u001b[0m\u001b[0;34m\u001b[0m\u001b[0;34m\u001b[0m\u001b[0m\n\u001b[0m\u001b[1;32m    636\u001b[0m       expand_composites=expand_composites)\n\u001b[1;32m    637\u001b[0m \u001b[0;34m\u001b[0m\u001b[0m\n",
            "\u001b[0;32m/usr/local/lib/python3.6/dist-packages/tensorflow/python/keras/utils/tf_utils.py\u001b[0m in \u001b[0;36m_to_single_numpy_or_python_type\u001b[0;34m(t)\u001b[0m\n\u001b[1;32m    531\u001b[0m   \u001b[0;32mdef\u001b[0m \u001b[0m_to_single_numpy_or_python_type\u001b[0m\u001b[0;34m(\u001b[0m\u001b[0mt\u001b[0m\u001b[0;34m)\u001b[0m\u001b[0;34m:\u001b[0m\u001b[0;34m\u001b[0m\u001b[0;34m\u001b[0m\u001b[0m\n\u001b[1;32m    532\u001b[0m     \u001b[0;32mif\u001b[0m \u001b[0misinstance\u001b[0m\u001b[0;34m(\u001b[0m\u001b[0mt\u001b[0m\u001b[0;34m,\u001b[0m \u001b[0mops\u001b[0m\u001b[0;34m.\u001b[0m\u001b[0mTensor\u001b[0m\u001b[0;34m)\u001b[0m\u001b[0;34m:\u001b[0m\u001b[0;34m\u001b[0m\u001b[0;34m\u001b[0m\u001b[0m\n\u001b[0;32m--> 533\u001b[0;31m       \u001b[0mx\u001b[0m \u001b[0;34m=\u001b[0m \u001b[0mt\u001b[0m\u001b[0;34m.\u001b[0m\u001b[0mnumpy\u001b[0m\u001b[0;34m(\u001b[0m\u001b[0;34m)\u001b[0m\u001b[0;34m\u001b[0m\u001b[0;34m\u001b[0m\u001b[0m\n\u001b[0m\u001b[1;32m    534\u001b[0m       \u001b[0;32mreturn\u001b[0m \u001b[0mx\u001b[0m\u001b[0;34m.\u001b[0m\u001b[0mitem\u001b[0m\u001b[0;34m(\u001b[0m\u001b[0;34m)\u001b[0m \u001b[0;32mif\u001b[0m \u001b[0mnp\u001b[0m\u001b[0;34m.\u001b[0m\u001b[0mndim\u001b[0m\u001b[0;34m(\u001b[0m\u001b[0mx\u001b[0m\u001b[0;34m)\u001b[0m \u001b[0;34m==\u001b[0m \u001b[0;36m0\u001b[0m \u001b[0;32melse\u001b[0m \u001b[0mx\u001b[0m\u001b[0;34m\u001b[0m\u001b[0;34m\u001b[0m\u001b[0m\n\u001b[1;32m    535\u001b[0m     \u001b[0;32mreturn\u001b[0m \u001b[0mt\u001b[0m  \u001b[0;31m# Don't turn ragged or sparse tensors to NumPy.\u001b[0m\u001b[0;34m\u001b[0m\u001b[0;34m\u001b[0m\u001b[0m\n",
            "\u001b[0;32m/usr/local/lib/python3.6/dist-packages/tensorflow/python/framework/ops.py\u001b[0m in \u001b[0;36mnumpy\u001b[0;34m(self)\u001b[0m\n\u001b[1;32m   1061\u001b[0m     \"\"\"\n\u001b[1;32m   1062\u001b[0m     \u001b[0;31m# TODO(slebedev): Consider avoiding a copy for non-CPU or remote tensors.\u001b[0m\u001b[0;34m\u001b[0m\u001b[0;34m\u001b[0m\u001b[0;34m\u001b[0m\u001b[0m\n\u001b[0;32m-> 1063\u001b[0;31m     \u001b[0mmaybe_arr\u001b[0m \u001b[0;34m=\u001b[0m \u001b[0mself\u001b[0m\u001b[0;34m.\u001b[0m\u001b[0m_numpy\u001b[0m\u001b[0;34m(\u001b[0m\u001b[0;34m)\u001b[0m  \u001b[0;31m# pylint: disable=protected-access\u001b[0m\u001b[0;34m\u001b[0m\u001b[0;34m\u001b[0m\u001b[0m\n\u001b[0m\u001b[1;32m   1064\u001b[0m     \u001b[0;32mreturn\u001b[0m \u001b[0mmaybe_arr\u001b[0m\u001b[0;34m.\u001b[0m\u001b[0mcopy\u001b[0m\u001b[0;34m(\u001b[0m\u001b[0;34m)\u001b[0m \u001b[0;32mif\u001b[0m \u001b[0misinstance\u001b[0m\u001b[0;34m(\u001b[0m\u001b[0mmaybe_arr\u001b[0m\u001b[0;34m,\u001b[0m \u001b[0mnp\u001b[0m\u001b[0;34m.\u001b[0m\u001b[0mndarray\u001b[0m\u001b[0;34m)\u001b[0m \u001b[0;32melse\u001b[0m \u001b[0mmaybe_arr\u001b[0m\u001b[0;34m\u001b[0m\u001b[0;34m\u001b[0m\u001b[0m\n\u001b[1;32m   1065\u001b[0m \u001b[0;34m\u001b[0m\u001b[0m\n",
            "\u001b[0;32m/usr/local/lib/python3.6/dist-packages/tensorflow/python/framework/ops.py\u001b[0m in \u001b[0;36m_numpy\u001b[0;34m(self)\u001b[0m\n\u001b[1;32m   1027\u001b[0m   \u001b[0;32mdef\u001b[0m \u001b[0m_numpy\u001b[0m\u001b[0;34m(\u001b[0m\u001b[0mself\u001b[0m\u001b[0;34m)\u001b[0m\u001b[0;34m:\u001b[0m\u001b[0;34m\u001b[0m\u001b[0;34m\u001b[0m\u001b[0m\n\u001b[1;32m   1028\u001b[0m     \u001b[0;32mtry\u001b[0m\u001b[0;34m:\u001b[0m\u001b[0;34m\u001b[0m\u001b[0;34m\u001b[0m\u001b[0m\n\u001b[0;32m-> 1029\u001b[0;31m       \u001b[0;32mreturn\u001b[0m \u001b[0mself\u001b[0m\u001b[0;34m.\u001b[0m\u001b[0m_numpy_internal\u001b[0m\u001b[0;34m(\u001b[0m\u001b[0;34m)\u001b[0m\u001b[0;34m\u001b[0m\u001b[0;34m\u001b[0m\u001b[0m\n\u001b[0m\u001b[1;32m   1030\u001b[0m     \u001b[0;32mexcept\u001b[0m \u001b[0mcore\u001b[0m\u001b[0;34m.\u001b[0m\u001b[0m_NotOkStatusException\u001b[0m \u001b[0;32mas\u001b[0m \u001b[0me\u001b[0m\u001b[0;34m:\u001b[0m  \u001b[0;31m# pylint: disable=protected-access\u001b[0m\u001b[0;34m\u001b[0m\u001b[0;34m\u001b[0m\u001b[0m\n\u001b[1;32m   1031\u001b[0m       \u001b[0msix\u001b[0m\u001b[0;34m.\u001b[0m\u001b[0mraise_from\u001b[0m\u001b[0;34m(\u001b[0m\u001b[0mcore\u001b[0m\u001b[0;34m.\u001b[0m\u001b[0m_status_to_exception\u001b[0m\u001b[0;34m(\u001b[0m\u001b[0me\u001b[0m\u001b[0;34m.\u001b[0m\u001b[0mcode\u001b[0m\u001b[0;34m,\u001b[0m \u001b[0me\u001b[0m\u001b[0;34m.\u001b[0m\u001b[0mmessage\u001b[0m\u001b[0;34m)\u001b[0m\u001b[0;34m,\u001b[0m \u001b[0;32mNone\u001b[0m\u001b[0;34m)\u001b[0m  \u001b[0;31m# pylint: disable=protected-access\u001b[0m\u001b[0;34m\u001b[0m\u001b[0;34m\u001b[0m\u001b[0m\n",
            "\u001b[0;31mKeyboardInterrupt\u001b[0m: "
          ]
        }
      ]
    },
    {
      "cell_type": "code",
      "metadata": {
        "id": "gOt5MH5pVbUo",
        "colab_type": "code",
        "colab": {
          "base_uri": "https://localhost:8080/",
          "height": 387
        },
        "outputId": "c7b4ae02-7e50-4c44-b80c-996c353819e0"
      },
      "source": [
        "from tqdm import tqdm\n",
        "from sklearn.metrics import precision_score, recall_score, f1_score\n",
        "PRED = large_bert_model.predict(x_val)\n",
        "Y_hat = [j>0.6 for j in PRED]\n",
        "\n",
        "_precision = precision_score(y_val, Y_hat)\n",
        "_recall = recall_score(y_val, Y_hat)\n",
        "_f1 = f1_score(y_val, Y_hat)\n",
        "\n",
        "print(\"\\nPrecision Score={:.2f}\\nRecallScore={:.2f}\\nf1 score={:.2f}\".format(_precision, _recall, _f1))"
      ],
      "execution_count": null,
      "outputs": [
        {
          "output_type": "error",
          "ename": "KeyboardInterrupt",
          "evalue": "ignored",
          "traceback": [
            "\u001b[0;31m---------------------------------------------------------------------------\u001b[0m",
            "\u001b[0;31mKeyboardInterrupt\u001b[0m                         Traceback (most recent call last)",
            "\u001b[0;32m<ipython-input-25-7b43e00ec645>\u001b[0m in \u001b[0;36m<module>\u001b[0;34m()\u001b[0m\n\u001b[1;32m      1\u001b[0m \u001b[0;32mfrom\u001b[0m \u001b[0mtqdm\u001b[0m \u001b[0;32mimport\u001b[0m \u001b[0mtqdm\u001b[0m\u001b[0;34m\u001b[0m\u001b[0;34m\u001b[0m\u001b[0m\n\u001b[1;32m      2\u001b[0m \u001b[0;32mfrom\u001b[0m \u001b[0msklearn\u001b[0m\u001b[0;34m.\u001b[0m\u001b[0mmetrics\u001b[0m \u001b[0;32mimport\u001b[0m \u001b[0mprecision_score\u001b[0m\u001b[0;34m,\u001b[0m \u001b[0mrecall_score\u001b[0m\u001b[0;34m,\u001b[0m \u001b[0mf1_score\u001b[0m\u001b[0;34m\u001b[0m\u001b[0;34m\u001b[0m\u001b[0m\n\u001b[0;32m----> 3\u001b[0;31m \u001b[0mPRED\u001b[0m \u001b[0;34m=\u001b[0m \u001b[0mlarge_bert_model\u001b[0m\u001b[0;34m.\u001b[0m\u001b[0mpredict\u001b[0m\u001b[0;34m(\u001b[0m\u001b[0mx_val\u001b[0m\u001b[0;34m)\u001b[0m\u001b[0;34m\u001b[0m\u001b[0;34m\u001b[0m\u001b[0m\n\u001b[0m\u001b[1;32m      4\u001b[0m \u001b[0mY_hat\u001b[0m \u001b[0;34m=\u001b[0m \u001b[0;34m[\u001b[0m\u001b[0mj\u001b[0m\u001b[0;34m>\u001b[0m\u001b[0;36m0.6\u001b[0m \u001b[0;32mfor\u001b[0m \u001b[0mj\u001b[0m \u001b[0;32min\u001b[0m \u001b[0mPRED\u001b[0m\u001b[0;34m]\u001b[0m\u001b[0;34m\u001b[0m\u001b[0;34m\u001b[0m\u001b[0m\n\u001b[1;32m      5\u001b[0m \u001b[0;34m\u001b[0m\u001b[0m\n",
            "\u001b[0;32m/usr/local/lib/python3.6/dist-packages/tensorflow/python/keras/engine/training.py\u001b[0m in \u001b[0;36m_method_wrapper\u001b[0;34m(self, *args, **kwargs)\u001b[0m\n\u001b[1;32m    128\u001b[0m       raise ValueError('{} is not supported in multi-worker mode.'.format(\n\u001b[1;32m    129\u001b[0m           method.__name__))\n\u001b[0;32m--> 130\u001b[0;31m     \u001b[0;32mreturn\u001b[0m \u001b[0mmethod\u001b[0m\u001b[0;34m(\u001b[0m\u001b[0mself\u001b[0m\u001b[0;34m,\u001b[0m \u001b[0;34m*\u001b[0m\u001b[0margs\u001b[0m\u001b[0;34m,\u001b[0m \u001b[0;34m**\u001b[0m\u001b[0mkwargs\u001b[0m\u001b[0;34m)\u001b[0m\u001b[0;34m\u001b[0m\u001b[0;34m\u001b[0m\u001b[0m\n\u001b[0m\u001b[1;32m    131\u001b[0m \u001b[0;34m\u001b[0m\u001b[0m\n\u001b[1;32m    132\u001b[0m   return tf_decorator.make_decorator(\n",
            "\u001b[0;32m/usr/local/lib/python3.6/dist-packages/tensorflow/python/keras/engine/training.py\u001b[0m in \u001b[0;36mpredict\u001b[0;34m(self, x, batch_size, verbose, steps, callbacks, max_queue_size, workers, use_multiprocessing)\u001b[0m\n\u001b[1;32m   1597\u001b[0m           \u001b[0;32mfor\u001b[0m \u001b[0mstep\u001b[0m \u001b[0;32min\u001b[0m \u001b[0mdata_handler\u001b[0m\u001b[0;34m.\u001b[0m\u001b[0msteps\u001b[0m\u001b[0;34m(\u001b[0m\u001b[0;34m)\u001b[0m\u001b[0;34m:\u001b[0m\u001b[0;34m\u001b[0m\u001b[0;34m\u001b[0m\u001b[0m\n\u001b[1;32m   1598\u001b[0m             \u001b[0mcallbacks\u001b[0m\u001b[0;34m.\u001b[0m\u001b[0mon_predict_batch_begin\u001b[0m\u001b[0;34m(\u001b[0m\u001b[0mstep\u001b[0m\u001b[0;34m)\u001b[0m\u001b[0;34m\u001b[0m\u001b[0;34m\u001b[0m\u001b[0m\n\u001b[0;32m-> 1599\u001b[0;31m             \u001b[0mtmp_batch_outputs\u001b[0m \u001b[0;34m=\u001b[0m \u001b[0mpredict_function\u001b[0m\u001b[0;34m(\u001b[0m\u001b[0miterator\u001b[0m\u001b[0;34m)\u001b[0m\u001b[0;34m\u001b[0m\u001b[0;34m\u001b[0m\u001b[0m\n\u001b[0m\u001b[1;32m   1600\u001b[0m             \u001b[0;32mif\u001b[0m \u001b[0mdata_handler\u001b[0m\u001b[0;34m.\u001b[0m\u001b[0mshould_sync\u001b[0m\u001b[0;34m:\u001b[0m\u001b[0;34m\u001b[0m\u001b[0;34m\u001b[0m\u001b[0m\n\u001b[1;32m   1601\u001b[0m               \u001b[0mcontext\u001b[0m\u001b[0;34m.\u001b[0m\u001b[0masync_wait\u001b[0m\u001b[0;34m(\u001b[0m\u001b[0;34m)\u001b[0m\u001b[0;34m\u001b[0m\u001b[0;34m\u001b[0m\u001b[0m\n",
            "\u001b[0;32m/usr/local/lib/python3.6/dist-packages/tensorflow/python/eager/def_function.py\u001b[0m in \u001b[0;36m__call__\u001b[0;34m(self, *args, **kwds)\u001b[0m\n\u001b[1;32m    778\u001b[0m       \u001b[0;32melse\u001b[0m\u001b[0;34m:\u001b[0m\u001b[0;34m\u001b[0m\u001b[0;34m\u001b[0m\u001b[0m\n\u001b[1;32m    779\u001b[0m         \u001b[0mcompiler\u001b[0m \u001b[0;34m=\u001b[0m \u001b[0;34m\"nonXla\"\u001b[0m\u001b[0;34m\u001b[0m\u001b[0;34m\u001b[0m\u001b[0m\n\u001b[0;32m--> 780\u001b[0;31m         \u001b[0mresult\u001b[0m \u001b[0;34m=\u001b[0m \u001b[0mself\u001b[0m\u001b[0;34m.\u001b[0m\u001b[0m_call\u001b[0m\u001b[0;34m(\u001b[0m\u001b[0;34m*\u001b[0m\u001b[0margs\u001b[0m\u001b[0;34m,\u001b[0m \u001b[0;34m**\u001b[0m\u001b[0mkwds\u001b[0m\u001b[0;34m)\u001b[0m\u001b[0;34m\u001b[0m\u001b[0;34m\u001b[0m\u001b[0m\n\u001b[0m\u001b[1;32m    781\u001b[0m \u001b[0;34m\u001b[0m\u001b[0m\n\u001b[1;32m    782\u001b[0m       \u001b[0mnew_tracing_count\u001b[0m \u001b[0;34m=\u001b[0m \u001b[0mself\u001b[0m\u001b[0;34m.\u001b[0m\u001b[0m_get_tracing_count\u001b[0m\u001b[0;34m(\u001b[0m\u001b[0;34m)\u001b[0m\u001b[0;34m\u001b[0m\u001b[0;34m\u001b[0m\u001b[0m\n",
            "\u001b[0;32m/usr/local/lib/python3.6/dist-packages/tensorflow/python/eager/def_function.py\u001b[0m in \u001b[0;36m_call\u001b[0;34m(self, *args, **kwds)\u001b[0m\n\u001b[1;32m    812\u001b[0m       \u001b[0;31m# In this case we have not created variables on the first call. So we can\u001b[0m\u001b[0;34m\u001b[0m\u001b[0;34m\u001b[0m\u001b[0;34m\u001b[0m\u001b[0m\n\u001b[1;32m    813\u001b[0m       \u001b[0;31m# run the first trace but we should fail if variables are created.\u001b[0m\u001b[0;34m\u001b[0m\u001b[0;34m\u001b[0m\u001b[0;34m\u001b[0m\u001b[0m\n\u001b[0;32m--> 814\u001b[0;31m       \u001b[0mresults\u001b[0m \u001b[0;34m=\u001b[0m \u001b[0mself\u001b[0m\u001b[0;34m.\u001b[0m\u001b[0m_stateful_fn\u001b[0m\u001b[0;34m(\u001b[0m\u001b[0;34m*\u001b[0m\u001b[0margs\u001b[0m\u001b[0;34m,\u001b[0m \u001b[0;34m**\u001b[0m\u001b[0mkwds\u001b[0m\u001b[0;34m)\u001b[0m\u001b[0;34m\u001b[0m\u001b[0;34m\u001b[0m\u001b[0m\n\u001b[0m\u001b[1;32m    815\u001b[0m       \u001b[0;32mif\u001b[0m \u001b[0mself\u001b[0m\u001b[0;34m.\u001b[0m\u001b[0m_created_variables\u001b[0m\u001b[0;34m:\u001b[0m\u001b[0;34m\u001b[0m\u001b[0;34m\u001b[0m\u001b[0m\n\u001b[1;32m    816\u001b[0m         raise ValueError(\"Creating variables on a non-first call to a function\"\n",
            "\u001b[0;32m/usr/local/lib/python3.6/dist-packages/tensorflow/python/eager/function.py\u001b[0m in \u001b[0;36m__call__\u001b[0;34m(self, *args, **kwargs)\u001b[0m\n\u001b[1;32m   2827\u001b[0m     \u001b[0;32mwith\u001b[0m \u001b[0mself\u001b[0m\u001b[0;34m.\u001b[0m\u001b[0m_lock\u001b[0m\u001b[0;34m:\u001b[0m\u001b[0;34m\u001b[0m\u001b[0;34m\u001b[0m\u001b[0m\n\u001b[1;32m   2828\u001b[0m       \u001b[0mgraph_function\u001b[0m\u001b[0;34m,\u001b[0m \u001b[0margs\u001b[0m\u001b[0;34m,\u001b[0m \u001b[0mkwargs\u001b[0m \u001b[0;34m=\u001b[0m \u001b[0mself\u001b[0m\u001b[0;34m.\u001b[0m\u001b[0m_maybe_define_function\u001b[0m\u001b[0;34m(\u001b[0m\u001b[0margs\u001b[0m\u001b[0;34m,\u001b[0m \u001b[0mkwargs\u001b[0m\u001b[0;34m)\u001b[0m\u001b[0;34m\u001b[0m\u001b[0;34m\u001b[0m\u001b[0m\n\u001b[0;32m-> 2829\u001b[0;31m     \u001b[0;32mreturn\u001b[0m \u001b[0mgraph_function\u001b[0m\u001b[0;34m.\u001b[0m\u001b[0m_filtered_call\u001b[0m\u001b[0;34m(\u001b[0m\u001b[0margs\u001b[0m\u001b[0;34m,\u001b[0m \u001b[0mkwargs\u001b[0m\u001b[0;34m)\u001b[0m  \u001b[0;31m# pylint: disable=protected-access\u001b[0m\u001b[0;34m\u001b[0m\u001b[0;34m\u001b[0m\u001b[0m\n\u001b[0m\u001b[1;32m   2830\u001b[0m \u001b[0;34m\u001b[0m\u001b[0m\n\u001b[1;32m   2831\u001b[0m   \u001b[0;34m@\u001b[0m\u001b[0mproperty\u001b[0m\u001b[0;34m\u001b[0m\u001b[0;34m\u001b[0m\u001b[0m\n",
            "\u001b[0;32m/usr/local/lib/python3.6/dist-packages/tensorflow/python/eager/function.py\u001b[0m in \u001b[0;36m_filtered_call\u001b[0;34m(self, args, kwargs, cancellation_manager)\u001b[0m\n\u001b[1;32m   1846\u001b[0m                            resource_variable_ops.BaseResourceVariable))],\n\u001b[1;32m   1847\u001b[0m         \u001b[0mcaptured_inputs\u001b[0m\u001b[0;34m=\u001b[0m\u001b[0mself\u001b[0m\u001b[0;34m.\u001b[0m\u001b[0mcaptured_inputs\u001b[0m\u001b[0;34m,\u001b[0m\u001b[0;34m\u001b[0m\u001b[0;34m\u001b[0m\u001b[0m\n\u001b[0;32m-> 1848\u001b[0;31m         cancellation_manager=cancellation_manager)\n\u001b[0m\u001b[1;32m   1849\u001b[0m \u001b[0;34m\u001b[0m\u001b[0m\n\u001b[1;32m   1850\u001b[0m   \u001b[0;32mdef\u001b[0m \u001b[0m_call_flat\u001b[0m\u001b[0;34m(\u001b[0m\u001b[0mself\u001b[0m\u001b[0;34m,\u001b[0m \u001b[0margs\u001b[0m\u001b[0;34m,\u001b[0m \u001b[0mcaptured_inputs\u001b[0m\u001b[0;34m,\u001b[0m \u001b[0mcancellation_manager\u001b[0m\u001b[0;34m=\u001b[0m\u001b[0;32mNone\u001b[0m\u001b[0;34m)\u001b[0m\u001b[0;34m:\u001b[0m\u001b[0;34m\u001b[0m\u001b[0;34m\u001b[0m\u001b[0m\n",
            "\u001b[0;32m/usr/local/lib/python3.6/dist-packages/tensorflow/python/eager/function.py\u001b[0m in \u001b[0;36m_call_flat\u001b[0;34m(self, args, captured_inputs, cancellation_manager)\u001b[0m\n\u001b[1;32m   1922\u001b[0m       \u001b[0;31m# No tape is watching; skip to running the function.\u001b[0m\u001b[0;34m\u001b[0m\u001b[0;34m\u001b[0m\u001b[0;34m\u001b[0m\u001b[0m\n\u001b[1;32m   1923\u001b[0m       return self._build_call_outputs(self._inference_function.call(\n\u001b[0;32m-> 1924\u001b[0;31m           ctx, args, cancellation_manager=cancellation_manager))\n\u001b[0m\u001b[1;32m   1925\u001b[0m     forward_backward = self._select_forward_and_backward_functions(\n\u001b[1;32m   1926\u001b[0m         \u001b[0margs\u001b[0m\u001b[0;34m,\u001b[0m\u001b[0;34m\u001b[0m\u001b[0;34m\u001b[0m\u001b[0m\n",
            "\u001b[0;32m/usr/local/lib/python3.6/dist-packages/tensorflow/python/eager/function.py\u001b[0m in \u001b[0;36mcall\u001b[0;34m(self, ctx, args, cancellation_manager)\u001b[0m\n\u001b[1;32m    548\u001b[0m               \u001b[0minputs\u001b[0m\u001b[0;34m=\u001b[0m\u001b[0margs\u001b[0m\u001b[0;34m,\u001b[0m\u001b[0;34m\u001b[0m\u001b[0;34m\u001b[0m\u001b[0m\n\u001b[1;32m    549\u001b[0m               \u001b[0mattrs\u001b[0m\u001b[0;34m=\u001b[0m\u001b[0mattrs\u001b[0m\u001b[0;34m,\u001b[0m\u001b[0;34m\u001b[0m\u001b[0;34m\u001b[0m\u001b[0m\n\u001b[0;32m--> 550\u001b[0;31m               ctx=ctx)\n\u001b[0m\u001b[1;32m    551\u001b[0m         \u001b[0;32melse\u001b[0m\u001b[0;34m:\u001b[0m\u001b[0;34m\u001b[0m\u001b[0;34m\u001b[0m\u001b[0m\n\u001b[1;32m    552\u001b[0m           outputs = execute.execute_with_cancellation(\n",
            "\u001b[0;32m/usr/local/lib/python3.6/dist-packages/tensorflow/python/eager/execute.py\u001b[0m in \u001b[0;36mquick_execute\u001b[0;34m(op_name, num_outputs, inputs, attrs, ctx, name)\u001b[0m\n\u001b[1;32m     58\u001b[0m     \u001b[0mctx\u001b[0m\u001b[0;34m.\u001b[0m\u001b[0mensure_initialized\u001b[0m\u001b[0;34m(\u001b[0m\u001b[0;34m)\u001b[0m\u001b[0;34m\u001b[0m\u001b[0;34m\u001b[0m\u001b[0m\n\u001b[1;32m     59\u001b[0m     tensors = pywrap_tfe.TFE_Py_Execute(ctx._handle, device_name, op_name,\n\u001b[0;32m---> 60\u001b[0;31m                                         inputs, attrs, num_outputs)\n\u001b[0m\u001b[1;32m     61\u001b[0m   \u001b[0;32mexcept\u001b[0m \u001b[0mcore\u001b[0m\u001b[0;34m.\u001b[0m\u001b[0m_NotOkStatusException\u001b[0m \u001b[0;32mas\u001b[0m \u001b[0me\u001b[0m\u001b[0;34m:\u001b[0m\u001b[0;34m\u001b[0m\u001b[0;34m\u001b[0m\u001b[0m\n\u001b[1;32m     62\u001b[0m     \u001b[0;32mif\u001b[0m \u001b[0mname\u001b[0m \u001b[0;32mis\u001b[0m \u001b[0;32mnot\u001b[0m \u001b[0;32mNone\u001b[0m\u001b[0;34m:\u001b[0m\u001b[0;34m\u001b[0m\u001b[0;34m\u001b[0m\u001b[0m\n",
            "\u001b[0;31mKeyboardInterrupt\u001b[0m: "
          ]
        }
      ]
    },
    {
      "cell_type": "code",
      "metadata": {
        "id": "bq5n4Zq_b8B7",
        "colab_type": "code",
        "colab": {
          "base_uri": "https://localhost:8080/",
          "height": 478
        },
        "outputId": "1e67816c-943d-4bc1-9d98-96f3f591f1b4"
      },
      "source": [
        "from tensorflow.keras.layers import GlobalAveragePooling1D, Dense, Dropout\n",
        "from tensorflow.keras.models import Model\n",
        "\n",
        "x = GlobalAveragePooling1D()(sequence_output)\n",
        "x = Dense(30, activation='relu', name='dense_1')(x)\n",
        "x = Dropout(0.1)(x)\n",
        "out = Dense(1, activation='sigmoid', name='output_dense')(x)\n",
        "\n",
        "large_bert_h = Model(inputs=[input_word_ids, input_mask, segment_ids], outputs=out)\n",
        "\n",
        "large_bert_h.compile(loss='binary_crossentropy',\n",
        "                   optimizer='adam',\n",
        "                   metrics=['acc'],\n",
        "                   )\n",
        "\n",
        "large_bert_h.summary()"
      ],
      "execution_count": null,
      "outputs": [
        {
          "output_type": "stream",
          "text": [
            "Model: \"functional_3\"\n",
            "__________________________________________________________________________________________________\n",
            "Layer (type)                    Output Shape         Param #     Connected to                     \n",
            "==================================================================================================\n",
            "input_word_ids (InputLayer)     [(None, 1000)]       0                                            \n",
            "__________________________________________________________________________________________________\n",
            "input_mask (InputLayer)         [(None, 1000)]       0                                            \n",
            "__________________________________________________________________________________________________\n",
            "segment_ids (InputLayer)        [(None, 1000)]       0                                            \n",
            "__________________________________________________________________________________________________\n",
            "keras_layer (KerasLayer)        [(None, 1024), (None 335141889   input_word_ids[0][0]             \n",
            "                                                                 input_mask[0][0]                 \n",
            "                                                                 segment_ids[0][0]                \n",
            "__________________________________________________________________________________________________\n",
            "global_average_pooling1d_1 (Glo (None, 1024)         0           keras_layer[0][1]                \n",
            "__________________________________________________________________________________________________\n",
            "dense_1 (Dense)                 (None, 30)           30750       global_average_pooling1d_1[0][0] \n",
            "__________________________________________________________________________________________________\n",
            "dropout_2 (Dropout)             (None, 30)           0           dense_1[0][0]                    \n",
            "__________________________________________________________________________________________________\n",
            "output_dense (Dense)            (None, 1)            31          dropout_2[0][0]                  \n",
            "==================================================================================================\n",
            "Total params: 335,172,670\n",
            "Trainable params: 30,781\n",
            "Non-trainable params: 335,141,889\n",
            "__________________________________________________________________________________________________\n"
          ],
          "name": "stdout"
        }
      ]
    },
    {
      "cell_type": "code",
      "metadata": {
        "id": "4bSdVZdQqxdP",
        "colab_type": "code",
        "colab": {
          "base_uri": "https://localhost:8080/",
          "height": 34
        },
        "outputId": "e75e718c-a017-48a2-9235-9e6e66d5f296"
      },
      "source": [
        "sequence_output.shape"
      ],
      "execution_count": null,
      "outputs": [
        {
          "output_type": "execute_result",
          "data": {
            "text/plain": [
              "TensorShape([None, 1000, 1024])"
            ]
          },
          "metadata": {
            "tags": []
          },
          "execution_count": 21
        }
      ]
    },
    {
      "cell_type": "code",
      "metadata": {
        "id": "37Fne3O1cvnI",
        "colab_type": "code",
        "colab": {
          "base_uri": "https://localhost:8080/",
          "height": 494
        },
        "outputId": "cf9dd5c3-18bc-4ce7-e13d-1f4982afc38c"
      },
      "source": [
        "from time import time\n",
        "start = time()\n",
        "h = large_bert_h.fit(x_t, y_t, batch_size=32, epochs=1, verbose=1,\n",
        "                   validation_split=0.1, shuffle=True,\n",
        "                   #callbacks=[es, save_ckp],\n",
        "                   )\n",
        "period = time() - start\n",
        "print(\"Training Time = {:.2f} seconds\".format(period))"
      ],
      "execution_count": null,
      "outputs": [
        {
          "output_type": "error",
          "ename": "InvalidArgumentError",
          "evalue": "ignored",
          "traceback": [
            "\u001b[0;31m---------------------------------------------------------------------------\u001b[0m",
            "\u001b[0;31mInvalidArgumentError\u001b[0m                      Traceback (most recent call last)",
            "\u001b[0;32m<ipython-input-17-56f1e7e12eb3>\u001b[0m in \u001b[0;36m<module>\u001b[0;34m()\u001b[0m\n\u001b[1;32m      2\u001b[0m \u001b[0mstart\u001b[0m \u001b[0;34m=\u001b[0m \u001b[0mtime\u001b[0m\u001b[0;34m(\u001b[0m\u001b[0;34m)\u001b[0m\u001b[0;34m\u001b[0m\u001b[0;34m\u001b[0m\u001b[0m\n\u001b[1;32m      3\u001b[0m h = large_bert_h.fit(x_t, y_t, batch_size=32, epochs=1, verbose=1,\n\u001b[0;32m----> 4\u001b[0;31m                    \u001b[0mvalidation_split\u001b[0m\u001b[0;34m=\u001b[0m\u001b[0;36m0.1\u001b[0m\u001b[0;34m,\u001b[0m \u001b[0mshuffle\u001b[0m\u001b[0;34m=\u001b[0m\u001b[0;32mTrue\u001b[0m\u001b[0;34m,\u001b[0m\u001b[0;34m\u001b[0m\u001b[0;34m\u001b[0m\u001b[0m\n\u001b[0m\u001b[1;32m      5\u001b[0m                    \u001b[0;31m#callbacks=[es, save_ckp],\u001b[0m\u001b[0;34m\u001b[0m\u001b[0;34m\u001b[0m\u001b[0;34m\u001b[0m\u001b[0m\n\u001b[1;32m      6\u001b[0m                    )\n",
            "\u001b[0;32m/usr/local/lib/python3.6/dist-packages/tensorflow/python/keras/engine/training.py\u001b[0m in \u001b[0;36m_method_wrapper\u001b[0;34m(self, *args, **kwargs)\u001b[0m\n\u001b[1;32m    106\u001b[0m   \u001b[0;32mdef\u001b[0m \u001b[0m_method_wrapper\u001b[0m\u001b[0;34m(\u001b[0m\u001b[0mself\u001b[0m\u001b[0;34m,\u001b[0m \u001b[0;34m*\u001b[0m\u001b[0margs\u001b[0m\u001b[0;34m,\u001b[0m \u001b[0;34m**\u001b[0m\u001b[0mkwargs\u001b[0m\u001b[0;34m)\u001b[0m\u001b[0;34m:\u001b[0m\u001b[0;34m\u001b[0m\u001b[0;34m\u001b[0m\u001b[0m\n\u001b[1;32m    107\u001b[0m     \u001b[0;32mif\u001b[0m \u001b[0;32mnot\u001b[0m \u001b[0mself\u001b[0m\u001b[0;34m.\u001b[0m\u001b[0m_in_multi_worker_mode\u001b[0m\u001b[0;34m(\u001b[0m\u001b[0;34m)\u001b[0m\u001b[0;34m:\u001b[0m  \u001b[0;31m# pylint: disable=protected-access\u001b[0m\u001b[0;34m\u001b[0m\u001b[0;34m\u001b[0m\u001b[0m\n\u001b[0;32m--> 108\u001b[0;31m       \u001b[0;32mreturn\u001b[0m \u001b[0mmethod\u001b[0m\u001b[0;34m(\u001b[0m\u001b[0mself\u001b[0m\u001b[0;34m,\u001b[0m \u001b[0;34m*\u001b[0m\u001b[0margs\u001b[0m\u001b[0;34m,\u001b[0m \u001b[0;34m**\u001b[0m\u001b[0mkwargs\u001b[0m\u001b[0;34m)\u001b[0m\u001b[0;34m\u001b[0m\u001b[0;34m\u001b[0m\u001b[0m\n\u001b[0m\u001b[1;32m    109\u001b[0m \u001b[0;34m\u001b[0m\u001b[0m\n\u001b[1;32m    110\u001b[0m     \u001b[0;31m# Running inside `run_distribute_coordinator` already.\u001b[0m\u001b[0;34m\u001b[0m\u001b[0;34m\u001b[0m\u001b[0;34m\u001b[0m\u001b[0m\n",
            "\u001b[0;32m/usr/local/lib/python3.6/dist-packages/tensorflow/python/keras/engine/training.py\u001b[0m in \u001b[0;36mfit\u001b[0;34m(self, x, y, batch_size, epochs, verbose, callbacks, validation_split, validation_data, shuffle, class_weight, sample_weight, initial_epoch, steps_per_epoch, validation_steps, validation_batch_size, validation_freq, max_queue_size, workers, use_multiprocessing)\u001b[0m\n\u001b[1;32m   1096\u001b[0m                 batch_size=batch_size):\n\u001b[1;32m   1097\u001b[0m               \u001b[0mcallbacks\u001b[0m\u001b[0;34m.\u001b[0m\u001b[0mon_train_batch_begin\u001b[0m\u001b[0;34m(\u001b[0m\u001b[0mstep\u001b[0m\u001b[0;34m)\u001b[0m\u001b[0;34m\u001b[0m\u001b[0;34m\u001b[0m\u001b[0m\n\u001b[0;32m-> 1098\u001b[0;31m               \u001b[0mtmp_logs\u001b[0m \u001b[0;34m=\u001b[0m \u001b[0mtrain_function\u001b[0m\u001b[0;34m(\u001b[0m\u001b[0miterator\u001b[0m\u001b[0;34m)\u001b[0m\u001b[0;34m\u001b[0m\u001b[0;34m\u001b[0m\u001b[0m\n\u001b[0m\u001b[1;32m   1099\u001b[0m               \u001b[0;32mif\u001b[0m \u001b[0mdata_handler\u001b[0m\u001b[0;34m.\u001b[0m\u001b[0mshould_sync\u001b[0m\u001b[0;34m:\u001b[0m\u001b[0;34m\u001b[0m\u001b[0;34m\u001b[0m\u001b[0m\n\u001b[1;32m   1100\u001b[0m                 \u001b[0mcontext\u001b[0m\u001b[0;34m.\u001b[0m\u001b[0masync_wait\u001b[0m\u001b[0;34m(\u001b[0m\u001b[0;34m)\u001b[0m\u001b[0;34m\u001b[0m\u001b[0;34m\u001b[0m\u001b[0m\n",
            "\u001b[0;32m/usr/local/lib/python3.6/dist-packages/tensorflow/python/eager/def_function.py\u001b[0m in \u001b[0;36m__call__\u001b[0;34m(self, *args, **kwds)\u001b[0m\n\u001b[1;32m    778\u001b[0m       \u001b[0;32melse\u001b[0m\u001b[0;34m:\u001b[0m\u001b[0;34m\u001b[0m\u001b[0;34m\u001b[0m\u001b[0m\n\u001b[1;32m    779\u001b[0m         \u001b[0mcompiler\u001b[0m \u001b[0;34m=\u001b[0m \u001b[0;34m\"nonXla\"\u001b[0m\u001b[0;34m\u001b[0m\u001b[0;34m\u001b[0m\u001b[0m\n\u001b[0;32m--> 780\u001b[0;31m         \u001b[0mresult\u001b[0m \u001b[0;34m=\u001b[0m \u001b[0mself\u001b[0m\u001b[0;34m.\u001b[0m\u001b[0m_call\u001b[0m\u001b[0;34m(\u001b[0m\u001b[0;34m*\u001b[0m\u001b[0margs\u001b[0m\u001b[0;34m,\u001b[0m \u001b[0;34m**\u001b[0m\u001b[0mkwds\u001b[0m\u001b[0;34m)\u001b[0m\u001b[0;34m\u001b[0m\u001b[0;34m\u001b[0m\u001b[0m\n\u001b[0m\u001b[1;32m    781\u001b[0m \u001b[0;34m\u001b[0m\u001b[0m\n\u001b[1;32m    782\u001b[0m       \u001b[0mnew_tracing_count\u001b[0m \u001b[0;34m=\u001b[0m \u001b[0mself\u001b[0m\u001b[0;34m.\u001b[0m\u001b[0m_get_tracing_count\u001b[0m\u001b[0;34m(\u001b[0m\u001b[0;34m)\u001b[0m\u001b[0;34m\u001b[0m\u001b[0;34m\u001b[0m\u001b[0m\n",
            "\u001b[0;32m/usr/local/lib/python3.6/dist-packages/tensorflow/python/eager/def_function.py\u001b[0m in \u001b[0;36m_call\u001b[0;34m(self, *args, **kwds)\u001b[0m\n\u001b[1;32m    838\u001b[0m         \u001b[0;31m# Lifting succeeded, so variables are initialized and we can run the\u001b[0m\u001b[0;34m\u001b[0m\u001b[0;34m\u001b[0m\u001b[0;34m\u001b[0m\u001b[0m\n\u001b[1;32m    839\u001b[0m         \u001b[0;31m# stateless function.\u001b[0m\u001b[0;34m\u001b[0m\u001b[0;34m\u001b[0m\u001b[0;34m\u001b[0m\u001b[0m\n\u001b[0;32m--> 840\u001b[0;31m         \u001b[0;32mreturn\u001b[0m \u001b[0mself\u001b[0m\u001b[0;34m.\u001b[0m\u001b[0m_stateless_fn\u001b[0m\u001b[0;34m(\u001b[0m\u001b[0;34m*\u001b[0m\u001b[0margs\u001b[0m\u001b[0;34m,\u001b[0m \u001b[0;34m**\u001b[0m\u001b[0mkwds\u001b[0m\u001b[0;34m)\u001b[0m\u001b[0;34m\u001b[0m\u001b[0;34m\u001b[0m\u001b[0m\n\u001b[0m\u001b[1;32m    841\u001b[0m     \u001b[0;32melse\u001b[0m\u001b[0;34m:\u001b[0m\u001b[0;34m\u001b[0m\u001b[0;34m\u001b[0m\u001b[0m\n\u001b[1;32m    842\u001b[0m       \u001b[0mcanon_args\u001b[0m\u001b[0;34m,\u001b[0m \u001b[0mcanon_kwds\u001b[0m \u001b[0;34m=\u001b[0m\u001b[0;31m \u001b[0m\u001b[0;31m\\\u001b[0m\u001b[0;34m\u001b[0m\u001b[0;34m\u001b[0m\u001b[0m\n",
            "\u001b[0;32m/usr/local/lib/python3.6/dist-packages/tensorflow/python/eager/function.py\u001b[0m in \u001b[0;36m__call__\u001b[0;34m(self, *args, **kwargs)\u001b[0m\n\u001b[1;32m   2827\u001b[0m     \u001b[0;32mwith\u001b[0m \u001b[0mself\u001b[0m\u001b[0;34m.\u001b[0m\u001b[0m_lock\u001b[0m\u001b[0;34m:\u001b[0m\u001b[0;34m\u001b[0m\u001b[0;34m\u001b[0m\u001b[0m\n\u001b[1;32m   2828\u001b[0m       \u001b[0mgraph_function\u001b[0m\u001b[0;34m,\u001b[0m \u001b[0margs\u001b[0m\u001b[0;34m,\u001b[0m \u001b[0mkwargs\u001b[0m \u001b[0;34m=\u001b[0m \u001b[0mself\u001b[0m\u001b[0;34m.\u001b[0m\u001b[0m_maybe_define_function\u001b[0m\u001b[0;34m(\u001b[0m\u001b[0margs\u001b[0m\u001b[0;34m,\u001b[0m \u001b[0mkwargs\u001b[0m\u001b[0;34m)\u001b[0m\u001b[0;34m\u001b[0m\u001b[0;34m\u001b[0m\u001b[0m\n\u001b[0;32m-> 2829\u001b[0;31m     \u001b[0;32mreturn\u001b[0m \u001b[0mgraph_function\u001b[0m\u001b[0;34m.\u001b[0m\u001b[0m_filtered_call\u001b[0m\u001b[0;34m(\u001b[0m\u001b[0margs\u001b[0m\u001b[0;34m,\u001b[0m \u001b[0mkwargs\u001b[0m\u001b[0;34m)\u001b[0m  \u001b[0;31m# pylint: disable=protected-access\u001b[0m\u001b[0;34m\u001b[0m\u001b[0;34m\u001b[0m\u001b[0m\n\u001b[0m\u001b[1;32m   2830\u001b[0m \u001b[0;34m\u001b[0m\u001b[0m\n\u001b[1;32m   2831\u001b[0m   \u001b[0;34m@\u001b[0m\u001b[0mproperty\u001b[0m\u001b[0;34m\u001b[0m\u001b[0;34m\u001b[0m\u001b[0m\n",
            "\u001b[0;32m/usr/local/lib/python3.6/dist-packages/tensorflow/python/eager/function.py\u001b[0m in \u001b[0;36m_filtered_call\u001b[0;34m(self, args, kwargs, cancellation_manager)\u001b[0m\n\u001b[1;32m   1846\u001b[0m                            resource_variable_ops.BaseResourceVariable))],\n\u001b[1;32m   1847\u001b[0m         \u001b[0mcaptured_inputs\u001b[0m\u001b[0;34m=\u001b[0m\u001b[0mself\u001b[0m\u001b[0;34m.\u001b[0m\u001b[0mcaptured_inputs\u001b[0m\u001b[0;34m,\u001b[0m\u001b[0;34m\u001b[0m\u001b[0;34m\u001b[0m\u001b[0m\n\u001b[0;32m-> 1848\u001b[0;31m         cancellation_manager=cancellation_manager)\n\u001b[0m\u001b[1;32m   1849\u001b[0m \u001b[0;34m\u001b[0m\u001b[0m\n\u001b[1;32m   1850\u001b[0m   \u001b[0;32mdef\u001b[0m \u001b[0m_call_flat\u001b[0m\u001b[0;34m(\u001b[0m\u001b[0mself\u001b[0m\u001b[0;34m,\u001b[0m \u001b[0margs\u001b[0m\u001b[0;34m,\u001b[0m \u001b[0mcaptured_inputs\u001b[0m\u001b[0;34m,\u001b[0m \u001b[0mcancellation_manager\u001b[0m\u001b[0;34m=\u001b[0m\u001b[0;32mNone\u001b[0m\u001b[0;34m)\u001b[0m\u001b[0;34m:\u001b[0m\u001b[0;34m\u001b[0m\u001b[0;34m\u001b[0m\u001b[0m\n",
            "\u001b[0;32m/usr/local/lib/python3.6/dist-packages/tensorflow/python/eager/function.py\u001b[0m in \u001b[0;36m_call_flat\u001b[0;34m(self, args, captured_inputs, cancellation_manager)\u001b[0m\n\u001b[1;32m   1922\u001b[0m       \u001b[0;31m# No tape is watching; skip to running the function.\u001b[0m\u001b[0;34m\u001b[0m\u001b[0;34m\u001b[0m\u001b[0;34m\u001b[0m\u001b[0m\n\u001b[1;32m   1923\u001b[0m       return self._build_call_outputs(self._inference_function.call(\n\u001b[0;32m-> 1924\u001b[0;31m           ctx, args, cancellation_manager=cancellation_manager))\n\u001b[0m\u001b[1;32m   1925\u001b[0m     forward_backward = self._select_forward_and_backward_functions(\n\u001b[1;32m   1926\u001b[0m         \u001b[0margs\u001b[0m\u001b[0;34m,\u001b[0m\u001b[0;34m\u001b[0m\u001b[0;34m\u001b[0m\u001b[0m\n",
            "\u001b[0;32m/usr/local/lib/python3.6/dist-packages/tensorflow/python/eager/function.py\u001b[0m in \u001b[0;36mcall\u001b[0;34m(self, ctx, args, cancellation_manager)\u001b[0m\n\u001b[1;32m    548\u001b[0m               \u001b[0minputs\u001b[0m\u001b[0;34m=\u001b[0m\u001b[0margs\u001b[0m\u001b[0;34m,\u001b[0m\u001b[0;34m\u001b[0m\u001b[0;34m\u001b[0m\u001b[0m\n\u001b[1;32m    549\u001b[0m               \u001b[0mattrs\u001b[0m\u001b[0;34m=\u001b[0m\u001b[0mattrs\u001b[0m\u001b[0;34m,\u001b[0m\u001b[0;34m\u001b[0m\u001b[0;34m\u001b[0m\u001b[0m\n\u001b[0;32m--> 550\u001b[0;31m               ctx=ctx)\n\u001b[0m\u001b[1;32m    551\u001b[0m         \u001b[0;32melse\u001b[0m\u001b[0;34m:\u001b[0m\u001b[0;34m\u001b[0m\u001b[0;34m\u001b[0m\u001b[0m\n\u001b[1;32m    552\u001b[0m           outputs = execute.execute_with_cancellation(\n",
            "\u001b[0;32m/usr/local/lib/python3.6/dist-packages/tensorflow/python/eager/execute.py\u001b[0m in \u001b[0;36mquick_execute\u001b[0;34m(op_name, num_outputs, inputs, attrs, ctx, name)\u001b[0m\n\u001b[1;32m     58\u001b[0m     \u001b[0mctx\u001b[0m\u001b[0;34m.\u001b[0m\u001b[0mensure_initialized\u001b[0m\u001b[0;34m(\u001b[0m\u001b[0;34m)\u001b[0m\u001b[0;34m\u001b[0m\u001b[0;34m\u001b[0m\u001b[0m\n\u001b[1;32m     59\u001b[0m     tensors = pywrap_tfe.TFE_Py_Execute(ctx._handle, device_name, op_name,\n\u001b[0;32m---> 60\u001b[0;31m                                         inputs, attrs, num_outputs)\n\u001b[0m\u001b[1;32m     61\u001b[0m   \u001b[0;32mexcept\u001b[0m \u001b[0mcore\u001b[0m\u001b[0;34m.\u001b[0m\u001b[0m_NotOkStatusException\u001b[0m \u001b[0;32mas\u001b[0m \u001b[0me\u001b[0m\u001b[0;34m:\u001b[0m\u001b[0;34m\u001b[0m\u001b[0;34m\u001b[0m\u001b[0m\n\u001b[1;32m     62\u001b[0m     \u001b[0;32mif\u001b[0m \u001b[0mname\u001b[0m \u001b[0;32mis\u001b[0m \u001b[0;32mnot\u001b[0m \u001b[0;32mNone\u001b[0m\u001b[0;34m:\u001b[0m\u001b[0;34m\u001b[0m\u001b[0;34m\u001b[0m\u001b[0m\n",
            "\u001b[0;31mInvalidArgumentError\u001b[0m:  Incompatible shapes: [512,1024] vs. [32,1000,1024]\n\t [[{{node functional_3/keras_layer/StatefulPartitionedCall/StatefulPartitionedCall/StatefulPartitionedCall/transformer_encoder/StatefulPartitionedCall/position_embedding/BroadcastTo}}]] [Op:__inference_train_function_74474]\n\nFunction call stack:\ntrain_function\n"
          ]
        }
      ]
    },
    {
      "cell_type": "code",
      "metadata": {
        "id": "A2pNV7ACia01",
        "colab_type": "code",
        "colab": {
          "base_uri": "https://localhost:8080/",
          "height": 123
        },
        "outputId": "0df04b06-c9ae-456f-977a-c501634e78c1"
      },
      "source": [
        "#Evaluate classification problem\n",
        "from tqdm import tqdm\n",
        "from sklearn.metrics import precision_score, recall_score, f1_score\n",
        "PRED = tqdm(large_bert_h.predict(x_val))\n",
        "Y_hat = [j>0.6 for j in tqdm(PRED, position=0, leave=True)]\n",
        "\n",
        "_precision = precision_score(y_val, Y_hat)\n",
        "_recall = recall_score(y_val, Y_hat)\n",
        "_f1 = f1_score(y_val, Y_hat)\n",
        "\n",
        "print(\"\\nPrecision Score={:.2f}\\nRecallScore={:.2f}\\nf1 score={:.2f}\".format(_precision, _recall, _f1))"
      ],
      "execution_count": null,
      "outputs": [
        {
          "output_type": "stream",
          "text": [
            "100%|██████████| 15000/15000 [00:00<00:00, 463964.84it/s]\n",
            "100%|██████████| 15000/15000 [00:00<00:00, 458520.83it/s]"
          ],
          "name": "stderr"
        },
        {
          "output_type": "stream",
          "text": [
            "\n",
            "Precision Score=0.90\n",
            "RecallScore=0.74\n",
            "f1 score=0.81\n"
          ],
          "name": "stdout"
        },
        {
          "output_type": "stream",
          "text": [
            "\n"
          ],
          "name": "stderr"
        }
      ]
    },
    {
      "cell_type": "code",
      "metadata": {
        "id": "lwKcxRh9UQXk",
        "colab_type": "code",
        "colab": {
          "base_uri": "https://localhost:8080/",
          "height": 34
        },
        "outputId": "34a51ab7-c67e-43a8-986b-dd79fd9cc8e4"
      },
      "source": [
        "import gc \n",
        "\n",
        "gc.collect()"
      ],
      "execution_count": null,
      "outputs": [
        {
          "output_type": "execute_result",
          "data": {
            "text/plain": [
              "0"
            ]
          },
          "metadata": {
            "tags": []
          },
          "execution_count": 56
        }
      ]
    },
    {
      "cell_type": "code",
      "metadata": {
        "id": "AcRV-x3SmGLg",
        "colab_type": "code",
        "colab": {
          "base_uri": "https://localhost:8080/",
          "height": 692
        },
        "outputId": "eb901937-96d7-47a4-f4f8-05cba6dfa825"
      },
      "source": [
        "from tensorflow.keras.layers import GlobalAveragePooling1D, Dense, Dropout\n",
        "from tensorflow.keras.models import Model\n",
        "\n",
        "x = GlobalAveragePooling1D()(sequence_output)\n",
        "x = Dense(100, activation='relu', name='dense_1')(x)\n",
        "x = Dropout(0.5)(x)\n",
        "x = Dense(50, activation='relu', name='dense_2')(x)\n",
        "x = Dropout(0.5)(x)\n",
        "x = Dense(20, activation='relu', name='danse_3')(x)\n",
        "x = Dropout(0.5)(x)\n",
        "x = Dense(10, activation='relu', name='daense_4')(x)\n",
        "x = Dropout(0.2)(x)\n",
        "\n",
        "out = Dense(1, activation='sigmoid', name='output_layer')(x)\n",
        "\n",
        "large_bert_hh = Model(inputs=[input_word_ids, input_mask, segment_ids], outputs=out)\n",
        "\n",
        "large_bert_hh.compile(loss='binary_crossentropy',\n",
        "                   optimizer='adam',\n",
        "                   metrics=['acc'],\n",
        "                   )\n",
        "\n",
        "large_bert_hh.summary()"
      ],
      "execution_count": null,
      "outputs": [
        {
          "output_type": "stream",
          "text": [
            "Model: \"functional_23\"\n",
            "__________________________________________________________________________________________________\n",
            "Layer (type)                    Output Shape         Param #     Connected to                     \n",
            "==================================================================================================\n",
            "input_word_ids (InputLayer)     [(None, 500)]        0                                            \n",
            "__________________________________________________________________________________________________\n",
            "input_mask (InputLayer)         [(None, 500)]        0                                            \n",
            "__________________________________________________________________________________________________\n",
            "segment_ids (InputLayer)        [(None, 500)]        0                                            \n",
            "__________________________________________________________________________________________________\n",
            "keras_layer_4 (KerasLayer)      [(None, 1024), (None 335141889   input_word_ids[0][0]             \n",
            "                                                                 input_mask[0][0]                 \n",
            "                                                                 segment_ids[0][0]                \n",
            "__________________________________________________________________________________________________\n",
            "global_average_pooling1d_11 (Gl (None, 1024)         0           keras_layer_4[0][1]              \n",
            "__________________________________________________________________________________________________\n",
            "dense_1 (Dense)                 (None, 100)          102500      global_average_pooling1d_11[0][0]\n",
            "__________________________________________________________________________________________________\n",
            "dropout_26 (Dropout)            (None, 100)          0           dense_1[0][0]                    \n",
            "__________________________________________________________________________________________________\n",
            "dense_2 (Dense)                 (None, 50)           5050        dropout_26[0][0]                 \n",
            "__________________________________________________________________________________________________\n",
            "dropout_27 (Dropout)            (None, 50)           0           dense_2[0][0]                    \n",
            "__________________________________________________________________________________________________\n",
            "danse_3 (Dense)                 (None, 20)           1020        dropout_27[0][0]                 \n",
            "__________________________________________________________________________________________________\n",
            "dropout_28 (Dropout)            (None, 20)           0           danse_3[0][0]                    \n",
            "__________________________________________________________________________________________________\n",
            "daense_4 (Dense)                (None, 10)           210         dropout_28[0][0]                 \n",
            "__________________________________________________________________________________________________\n",
            "dropout_29 (Dropout)            (None, 10)           0           daense_4[0][0]                   \n",
            "__________________________________________________________________________________________________\n",
            "output_layer (Dense)            (None, 1)            11          dropout_29[0][0]                 \n",
            "==================================================================================================\n",
            "Total params: 335,250,680\n",
            "Trainable params: 108,791\n",
            "Non-trainable params: 335,141,889\n",
            "__________________________________________________________________________________________________\n"
          ],
          "name": "stdout"
        }
      ]
    },
    {
      "cell_type": "code",
      "metadata": {
        "id": "RYe59kzQm0uk",
        "colab_type": "code",
        "colab": {
          "base_uri": "https://localhost:8080/",
          "height": 34
        },
        "outputId": "9be23330-5758-4efe-faa6-145f08308399"
      },
      "source": [
        "from time import time\n",
        "start = time()\n",
        "hist = large_bert_hh.fit(x_t, y_t, batch_size=32, epochs=1, verbose=1,\n",
        "                   validation_split=0.1, shuffle=True,\n",
        "                   #callbacks=[es, save_ckp],\n",
        "                   )\n",
        "period = time() - start\n",
        "print(\"Training Time = {:.2f} seconds\".format(period))"
      ],
      "execution_count": null,
      "outputs": [
        {
          "output_type": "stream",
          "text": [
            "985/985 [==============================] - ETA: 0s - loss: 0.4760 - acc: 0.7687"
          ],
          "name": "stdout"
        }
      ]
    },
    {
      "cell_type": "code",
      "metadata": {
        "id": "wmqveJNhrwsh",
        "colab_type": "code",
        "colab": {
          "base_uri": "https://localhost:8080/",
          "height": 158
        },
        "outputId": "7ebcd4ce-ed9c-4f3b-f085-47ea062e8363"
      },
      "source": [
        "#Evaluate classification problem\n",
        "from tqdm import tqdm\n",
        "from time import time\n",
        "from sklearn.metrics import precision_score, recall_score, f1_score\n",
        "\n",
        "start = time()\n",
        "PRED = large_bert_hh.predict(x_val)\n",
        "predict_time = time() - start\n",
        "print(\"\\nPredict time ={:.2f}\".format(predict_time))\n",
        "\n",
        "start = time()\n",
        "Y_hat = [j>0.6 for j in PRED]\n",
        "print(\"\\nEncoding time ={:.2f}\".format(time() - start))\n",
        "\n",
        "_precision = precision_score(y_val, Y_hat)\n",
        "_recall = recall_score(y_val, Y_hat)\n",
        "_f1 = f1_score(y_val, Y_hat)\n",
        "\n",
        "print(\"\\nPrecision Score={:.2f}\\nRecallScore={:.2f}\\nf1 score={:.2f}\".format(_precision, _recall, _f1))"
      ],
      "execution_count": null,
      "outputs": [
        {
          "output_type": "stream",
          "text": [
            "\n",
            "Predict time ={predict_time:.2f}\n",
            "\n",
            "Encoding time ={time()-start:.2f}\n",
            "\n",
            "Precision Score=0.91\n",
            "RecallScore=0.88\n",
            "f1 score=0.89\n"
          ],
          "name": "stdout"
        }
      ]
    }
  ]
}